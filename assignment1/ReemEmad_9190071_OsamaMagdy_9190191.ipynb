{
  "cells": [
    {
      "cell_type": "markdown",
      "metadata": {
        "id": "OmsxjwmqYCyu"
      },
      "source": [
        "Reem Emad, sec.:1, B.N.:33\n",
        "\n",
        "Osama Magdy, sec.:1 B.N.:14"
      ]
    },
    {
      "cell_type": "markdown",
      "metadata": {
        "id": "xXR_4OX-EWBm"
      },
      "source": [
        "# **`Data Cleaning Practice`**\n",
        "\n",
        "#### Data cleaning is a cruicial process in any Data Science project. There's no one typical way on carrying out this cleaning, however, some basic steps are commonly followed. \n",
        "#### Let's have a quick look on such steps carried out on the \"Netflix-titles\" dataset from Kaggle.\n",
        "\n",
        "\n",
        "#### **Agenda**\n",
        "\n",
        "\n",
        "1.   Investigate and understand data variables\n",
        "2.   Check for data missingness (more on that in section-2)\n",
        "3.   Check the data type of each column\n",
        "4.   Clean string data columns\n",
        "5.   Deal with the Nan values\n",
        "6.   Extract more info from the dataset\n",
        "7.   Analyse unique values of some columns\n",
        "8.   MCAR, MAR, MNAR and data imputations\n",
        "\n",
        "\n",
        "\n",
        "\n",
        "\n",
        "\n",
        "\n",
        "\n",
        "\n",
        "\n",
        "\n",
        "\n"
      ]
    },
    {
      "cell_type": "markdown",
      "metadata": {
        "id": "Q_1712KwFIhs"
      },
      "source": [
        "#### **Step-1**: **Investigate the data for potential problems**"
      ]
    },
    {
      "cell_type": "code",
      "execution_count": 1,
      "metadata": {
        "colab": {
          "base_uri": "https://localhost:8080/",
          "height": 475
        },
        "id": "KVDDvfYyEFe8",
        "outputId": "fe724b09-7870-4e6b-8ce4-ae5f3355b052"
      },
      "outputs": [
        {
          "output_type": "execute_result",
          "data": {
            "text/plain": [
              "  show_id     type                  title         director  \\\n",
              "0      s1    Movie   Dick Johnson Is Dead  Kirsten Johnson   \n",
              "1      s2  TV Show          Blood & Water              NaN   \n",
              "2      s3  TV Show              Ganglands  Julien Leclercq   \n",
              "3      s4  TV Show  Jailbirds New Orleans              NaN   \n",
              "4      s5  TV Show           Kota Factory              NaN   \n",
              "\n",
              "                                                cast        country  \\\n",
              "0                                                NaN  United States   \n",
              "1  Ama Qamata, Khosi Ngema, Gail Mabalane, Thaban...   South Africa   \n",
              "2  Sami Bouajila, Tracy Gotoas, Samuel Jouy, Nabi...            NaN   \n",
              "3                                                NaN            NaN   \n",
              "4  Mayur More, Jitendra Kumar, Ranjan Raj, Alam K...          India   \n",
              "\n",
              "           date_added  release_year rating   duration  \\\n",
              "0  September 25, 2021          2020  PG-13     90 min   \n",
              "1  September 24, 2021          2021  TV-MA  2 Seasons   \n",
              "2  September 24, 2021          2021  TV-MA   1 Season   \n",
              "3  September 24, 2021          2021  TV-MA   1 Season   \n",
              "4  September 24, 2021          2021  TV-MA  2 Seasons   \n",
              "\n",
              "                                           listed_in  \\\n",
              "0                                      Documentaries   \n",
              "1    International TV Shows, TV Dramas, TV Mysteries   \n",
              "2  Crime TV Shows, International TV Shows, TV Act...   \n",
              "3                             Docuseries, Reality TV   \n",
              "4  International TV Shows, Romantic TV Shows, TV ...   \n",
              "\n",
              "                                         description  \n",
              "0  As her father nears the end of his life, filmm...  \n",
              "1  After crossing paths at a party, a Cape Town t...  \n",
              "2  To protect his family from a powerful drug lor...  \n",
              "3  Feuds, flirtations and toilet talk go down amo...  \n",
              "4  In a city of coaching centers known to train I...  "
            ],
            "text/html": [
              "\n",
              "  <div id=\"df-adf2a614-9277-4a91-adae-2a0d6953e930\">\n",
              "    <div class=\"colab-df-container\">\n",
              "      <div>\n",
              "<style scoped>\n",
              "    .dataframe tbody tr th:only-of-type {\n",
              "        vertical-align: middle;\n",
              "    }\n",
              "\n",
              "    .dataframe tbody tr th {\n",
              "        vertical-align: top;\n",
              "    }\n",
              "\n",
              "    .dataframe thead th {\n",
              "        text-align: right;\n",
              "    }\n",
              "</style>\n",
              "<table border=\"1\" class=\"dataframe\">\n",
              "  <thead>\n",
              "    <tr style=\"text-align: right;\">\n",
              "      <th></th>\n",
              "      <th>show_id</th>\n",
              "      <th>type</th>\n",
              "      <th>title</th>\n",
              "      <th>director</th>\n",
              "      <th>cast</th>\n",
              "      <th>country</th>\n",
              "      <th>date_added</th>\n",
              "      <th>release_year</th>\n",
              "      <th>rating</th>\n",
              "      <th>duration</th>\n",
              "      <th>listed_in</th>\n",
              "      <th>description</th>\n",
              "    </tr>\n",
              "  </thead>\n",
              "  <tbody>\n",
              "    <tr>\n",
              "      <th>0</th>\n",
              "      <td>s1</td>\n",
              "      <td>Movie</td>\n",
              "      <td>Dick Johnson Is Dead</td>\n",
              "      <td>Kirsten Johnson</td>\n",
              "      <td>NaN</td>\n",
              "      <td>United States</td>\n",
              "      <td>September 25, 2021</td>\n",
              "      <td>2020</td>\n",
              "      <td>PG-13</td>\n",
              "      <td>90 min</td>\n",
              "      <td>Documentaries</td>\n",
              "      <td>As her father nears the end of his life, filmm...</td>\n",
              "    </tr>\n",
              "    <tr>\n",
              "      <th>1</th>\n",
              "      <td>s2</td>\n",
              "      <td>TV Show</td>\n",
              "      <td>Blood &amp; Water</td>\n",
              "      <td>NaN</td>\n",
              "      <td>Ama Qamata, Khosi Ngema, Gail Mabalane, Thaban...</td>\n",
              "      <td>South Africa</td>\n",
              "      <td>September 24, 2021</td>\n",
              "      <td>2021</td>\n",
              "      <td>TV-MA</td>\n",
              "      <td>2 Seasons</td>\n",
              "      <td>International TV Shows, TV Dramas, TV Mysteries</td>\n",
              "      <td>After crossing paths at a party, a Cape Town t...</td>\n",
              "    </tr>\n",
              "    <tr>\n",
              "      <th>2</th>\n",
              "      <td>s3</td>\n",
              "      <td>TV Show</td>\n",
              "      <td>Ganglands</td>\n",
              "      <td>Julien Leclercq</td>\n",
              "      <td>Sami Bouajila, Tracy Gotoas, Samuel Jouy, Nabi...</td>\n",
              "      <td>NaN</td>\n",
              "      <td>September 24, 2021</td>\n",
              "      <td>2021</td>\n",
              "      <td>TV-MA</td>\n",
              "      <td>1 Season</td>\n",
              "      <td>Crime TV Shows, International TV Shows, TV Act...</td>\n",
              "      <td>To protect his family from a powerful drug lor...</td>\n",
              "    </tr>\n",
              "    <tr>\n",
              "      <th>3</th>\n",
              "      <td>s4</td>\n",
              "      <td>TV Show</td>\n",
              "      <td>Jailbirds New Orleans</td>\n",
              "      <td>NaN</td>\n",
              "      <td>NaN</td>\n",
              "      <td>NaN</td>\n",
              "      <td>September 24, 2021</td>\n",
              "      <td>2021</td>\n",
              "      <td>TV-MA</td>\n",
              "      <td>1 Season</td>\n",
              "      <td>Docuseries, Reality TV</td>\n",
              "      <td>Feuds, flirtations and toilet talk go down amo...</td>\n",
              "    </tr>\n",
              "    <tr>\n",
              "      <th>4</th>\n",
              "      <td>s5</td>\n",
              "      <td>TV Show</td>\n",
              "      <td>Kota Factory</td>\n",
              "      <td>NaN</td>\n",
              "      <td>Mayur More, Jitendra Kumar, Ranjan Raj, Alam K...</td>\n",
              "      <td>India</td>\n",
              "      <td>September 24, 2021</td>\n",
              "      <td>2021</td>\n",
              "      <td>TV-MA</td>\n",
              "      <td>2 Seasons</td>\n",
              "      <td>International TV Shows, Romantic TV Shows, TV ...</td>\n",
              "      <td>In a city of coaching centers known to train I...</td>\n",
              "    </tr>\n",
              "  </tbody>\n",
              "</table>\n",
              "</div>\n",
              "      <button class=\"colab-df-convert\" onclick=\"convertToInteractive('df-adf2a614-9277-4a91-adae-2a0d6953e930')\"\n",
              "              title=\"Convert this dataframe to an interactive table.\"\n",
              "              style=\"display:none;\">\n",
              "        \n",
              "  <svg xmlns=\"http://www.w3.org/2000/svg\" height=\"24px\"viewBox=\"0 0 24 24\"\n",
              "       width=\"24px\">\n",
              "    <path d=\"M0 0h24v24H0V0z\" fill=\"none\"/>\n",
              "    <path d=\"M18.56 5.44l.94 2.06.94-2.06 2.06-.94-2.06-.94-.94-2.06-.94 2.06-2.06.94zm-11 1L8.5 8.5l.94-2.06 2.06-.94-2.06-.94L8.5 2.5l-.94 2.06-2.06.94zm10 10l.94 2.06.94-2.06 2.06-.94-2.06-.94-.94-2.06-.94 2.06-2.06.94z\"/><path d=\"M17.41 7.96l-1.37-1.37c-.4-.4-.92-.59-1.43-.59-.52 0-1.04.2-1.43.59L10.3 9.45l-7.72 7.72c-.78.78-.78 2.05 0 2.83L4 21.41c.39.39.9.59 1.41.59.51 0 1.02-.2 1.41-.59l7.78-7.78 2.81-2.81c.8-.78.8-2.07 0-2.86zM5.41 20L4 18.59l7.72-7.72 1.47 1.35L5.41 20z\"/>\n",
              "  </svg>\n",
              "      </button>\n",
              "      \n",
              "  <style>\n",
              "    .colab-df-container {\n",
              "      display:flex;\n",
              "      flex-wrap:wrap;\n",
              "      gap: 12px;\n",
              "    }\n",
              "\n",
              "    .colab-df-convert {\n",
              "      background-color: #E8F0FE;\n",
              "      border: none;\n",
              "      border-radius: 50%;\n",
              "      cursor: pointer;\n",
              "      display: none;\n",
              "      fill: #1967D2;\n",
              "      height: 32px;\n",
              "      padding: 0 0 0 0;\n",
              "      width: 32px;\n",
              "    }\n",
              "\n",
              "    .colab-df-convert:hover {\n",
              "      background-color: #E2EBFA;\n",
              "      box-shadow: 0px 1px 2px rgba(60, 64, 67, 0.3), 0px 1px 3px 1px rgba(60, 64, 67, 0.15);\n",
              "      fill: #174EA6;\n",
              "    }\n",
              "\n",
              "    [theme=dark] .colab-df-convert {\n",
              "      background-color: #3B4455;\n",
              "      fill: #D2E3FC;\n",
              "    }\n",
              "\n",
              "    [theme=dark] .colab-df-convert:hover {\n",
              "      background-color: #434B5C;\n",
              "      box-shadow: 0px 1px 3px 1px rgba(0, 0, 0, 0.15);\n",
              "      filter: drop-shadow(0px 1px 2px rgba(0, 0, 0, 0.3));\n",
              "      fill: #FFFFFF;\n",
              "    }\n",
              "  </style>\n",
              "\n",
              "      <script>\n",
              "        const buttonEl =\n",
              "          document.querySelector('#df-adf2a614-9277-4a91-adae-2a0d6953e930 button.colab-df-convert');\n",
              "        buttonEl.style.display =\n",
              "          google.colab.kernel.accessAllowed ? 'block' : 'none';\n",
              "\n",
              "        async function convertToInteractive(key) {\n",
              "          const element = document.querySelector('#df-adf2a614-9277-4a91-adae-2a0d6953e930');\n",
              "          const dataTable =\n",
              "            await google.colab.kernel.invokeFunction('convertToInteractive',\n",
              "                                                     [key], {});\n",
              "          if (!dataTable) return;\n",
              "\n",
              "          const docLinkHtml = 'Like what you see? Visit the ' +\n",
              "            '<a target=\"_blank\" href=https://colab.research.google.com/notebooks/data_table.ipynb>data table notebook</a>'\n",
              "            + ' to learn more about interactive tables.';\n",
              "          element.innerHTML = '';\n",
              "          dataTable['output_type'] = 'display_data';\n",
              "          await google.colab.output.renderOutput(dataTable, element);\n",
              "          const docLink = document.createElement('div');\n",
              "          docLink.innerHTML = docLinkHtml;\n",
              "          element.appendChild(docLink);\n",
              "        }\n",
              "      </script>\n",
              "    </div>\n",
              "  </div>\n",
              "  "
            ]
          },
          "metadata": {},
          "execution_count": 1
        }
      ],
      "source": [
        "import pandas as pd\n",
        "import matplotlib.pyplot as plt\n",
        "netflix_titles = pd.read_csv(\"netflix_titles.csv\")\n",
        "\n",
        "# printing the first 5 rows of dataset\n",
        "netflix_titles.head()"
      ]
    },
    {
      "cell_type": "markdown",
      "metadata": {
        "id": "SDRTZ0VbOTME"
      },
      "source": [
        "#### *Through our first look, we could observe some potential issues as:-*\n",
        "\n",
        "\n",
        "1.   Nan values in director, cast, country columns\n",
        "2.   Multiple comma-separated words in cast, listed_in columns\n",
        "3.   Words & numbers together in data_added, duration columns\n",
        "4.   Release year, rating, listed_in potenially have missing values\n",
        "\n"
      ]
    },
    {
      "cell_type": "code",
      "execution_count": 2,
      "metadata": {
        "colab": {
          "base_uri": "https://localhost:8080/"
        },
        "id": "wikhCwxOlrs1",
        "outputId": "7c229f05-e424-40a2-8850-a3ed35bafde6"
      },
      "outputs": [
        {
          "output_type": "execute_result",
          "data": {
            "text/plain": [
              "['show_id',\n",
              " 'type',\n",
              " 'title',\n",
              " 'director',\n",
              " 'cast',\n",
              " 'country',\n",
              " 'date_added',\n",
              " 'release_year',\n",
              " 'rating',\n",
              " 'duration',\n",
              " 'listed_in',\n",
              " 'description']"
            ]
          },
          "metadata": {},
          "execution_count": 2
        }
      ],
      "source": [
        "##### Keep the data columns in a list for easier access\n",
        "columns = list(netflix_titles.columns)\n",
        "columns"
      ]
    },
    {
      "cell_type": "markdown",
      "metadata": {
        "id": "oy2zRI0URyzf"
      },
      "source": [
        "#### **Step-2: Investigate the proportion of missing data**"
      ]
    },
    {
      "cell_type": "code",
      "execution_count": 3,
      "metadata": {
        "colab": {
          "base_uri": "https://localhost:8080/"
        },
        "id": "vC5-djr_mCJy",
        "outputId": "7857db5a-2c75-45c2-98ae-997120f25a47"
      },
      "outputs": [
        {
          "output_type": "stream",
          "name": "stdout",
          "text": [
            "Missing values distribution: \n",
            "show_id         0.000000\n",
            "type            0.000000\n",
            "title           0.000000\n",
            "director        0.299080\n",
            "cast            0.093675\n",
            "country         0.094357\n",
            "date_added      0.001135\n",
            "release_year    0.000000\n",
            "rating          0.000454\n",
            "duration        0.000341\n",
            "listed_in       0.000000\n",
            "description     0.000000\n",
            "dtype: float64\n",
            "\n"
          ]
        }
      ],
      "source": [
        "print(\"Missing values distribution: \")\n",
        "print(netflix_titles.isnull().mean())\n",
        "print(\"\")"
      ]
    },
    {
      "cell_type": "markdown",
      "metadata": {
        "id": "1oXBGoJiTdXd"
      },
      "source": [
        "#### From the above we can observe:-\n",
        "\n",
        "\n",
        "1.   director column has the highst ratio of missing data ~ 30%\n",
        "2.   cast and country have considerable ratio ~ 9%\n",
        "3.   data_added, rating and duration have very low amount of missing data\n",
        "\n",
        "How to deal with those missing data?\n",
        "\n",
        "\n",
        "*   Drop the column completely, if not very important\n",
        "*   Impute the missing data (replace with mean, median, mode, Knn ...etc.) *More on that later*\n"
      ]
    },
    {
      "cell_type": "markdown",
      "metadata": {
        "id": "0-qLpnETWtHT"
      },
      "source": [
        "**Step-3: Check the data type of each column**"
      ]
    },
    {
      "cell_type": "code",
      "execution_count": 4,
      "metadata": {
        "colab": {
          "base_uri": "https://localhost:8080/"
        },
        "id": "kWLIqPtJmH12",
        "outputId": "172b8789-bc0c-4510-c489-3b3ddf091bae"
      },
      "outputs": [
        {
          "output_type": "stream",
          "name": "stdout",
          "text": [
            "Column datatypes: \n",
            "show_id         object\n",
            "type            object\n",
            "title           object\n",
            "director        object\n",
            "cast            object\n",
            "country         object\n",
            "date_added      object\n",
            "release_year     int64\n",
            "rating          object\n",
            "duration        object\n",
            "listed_in       object\n",
            "description     object\n",
            "dtype: object\n"
          ]
        }
      ],
      "source": [
        "print(\"Column datatypes: \")\n",
        "print(netflix_titles.dtypes)"
      ]
    },
    {
      "cell_type": "markdown",
      "metadata": {
        "id": "s-kCc5yBZAxR"
      },
      "source": [
        "*In pandas, **object** means either string or mixed type (numerical and non-numerical type mixed).*"
      ]
    },
    {
      "cell_type": "markdown",
      "metadata": {
        "id": "0rLCj76XZgiw"
      },
      "source": [
        "**Step-4: Strip trailing white-spaces from string columns**"
      ]
    },
    {
      "cell_type": "code",
      "execution_count": 5,
      "metadata": {
        "id": "k7rH40w_mT7p"
      },
      "outputs": [],
      "source": [
        "str_cols = columns\n",
        "str_cols.remove('release_year')\n",
        "\n",
        "# removing leading and trailing characters from columns with str type\n",
        "for i in str_cols:\n",
        "    netflix_titles[i] = netflix_titles[i].str.strip()\n"
      ]
    },
    {
      "cell_type": "markdown",
      "metadata": {
        "id": "8FGB22h_a40n"
      },
      "source": [
        "**Step-5: Deal with Nan values**\n",
        "##### Generally, a Nan value is annoying to deal with programatically, we always prefer to substitute it with something else.\n",
        "\n",
        "##### For object type, replace the Nan with an empty string \"\" or \"None\" word\n",
        "\n"
      ]
    },
    {
      "cell_type": "code",
      "execution_count": 6,
      "metadata": {
        "id": "PB__Evxfmgl0"
      },
      "outputs": [],
      "source": [
        "columns = ['director', 'cast', 'country', 'rating', 'date_added']\n",
        "\n",
        "# looping through the columns to fill the entries with NaN values with \"\"\n",
        "for column in columns:\n",
        "    netflix_titles[column] = netflix_titles[column].fillna(\"\")\n"
      ]
    },
    {
      "cell_type": "markdown",
      "metadata": {
        "id": "qnoi_6EXeFef"
      },
      "source": [
        "**Step-6: Extract more info from the dataset**\n",
        "##### *Looking at the mixed-data columns*\n",
        "![Screenshot 2023-03-24 231910.png](data:image/png;base64,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)\n",
        "\n",
        "##### We find date_added column with month, day and year info all combined together. Separating them makes it much easier to discover interesting trends or patterns, rather than keeping the granuality as the whole date. Same applies on duration column where we can not differentiate between different durations units. Is there another issue comparing duration in minutes with that in seasons?"
      ]
    },
    {
      "cell_type": "markdown",
      "metadata": {
        "id": "txT0LI8DiaBR"
      },
      "source": [
        "#### **Add month and year columns to express the date**\n",
        "#### **Replace Nan values for integers with 0**"
      ]
    },
    {
      "cell_type": "code",
      "execution_count": 7,
      "metadata": {
        "colab": {
          "base_uri": "https://localhost:8080/",
          "height": 666
        },
        "id": "K69ireAXmn28",
        "outputId": "43600b4c-4e27-40db-d2fd-f35a0a7072ef"
      },
      "outputs": [
        {
          "output_type": "execute_result",
          "data": {
            "text/plain": [
              "  show_id     type                  title         director  \\\n",
              "0      s1    Movie   Dick Johnson Is Dead  Kirsten Johnson   \n",
              "1      s2  TV Show          Blood & Water                    \n",
              "2      s3  TV Show              Ganglands  Julien Leclercq   \n",
              "3      s4  TV Show  Jailbirds New Orleans                    \n",
              "4      s5  TV Show           Kota Factory                    \n",
              "\n",
              "                                                cast        country  \\\n",
              "0                                                     United States   \n",
              "1  Ama Qamata, Khosi Ngema, Gail Mabalane, Thaban...   South Africa   \n",
              "2  Sami Bouajila, Tracy Gotoas, Samuel Jouy, Nabi...                  \n",
              "3                                                                     \n",
              "4  Mayur More, Jitendra Kumar, Ranjan Raj, Alam K...          India   \n",
              "\n",
              "           date_added  month_added  year_added  release_year rating  \\\n",
              "0  September 25, 2021            9        2021          2020  PG-13   \n",
              "1  September 24, 2021            9        2021          2021  TV-MA   \n",
              "2  September 24, 2021            9        2021          2021  TV-MA   \n",
              "3  September 24, 2021            9        2021          2021  TV-MA   \n",
              "4  September 24, 2021            9        2021          2021  TV-MA   \n",
              "\n",
              "    duration                                          listed_in  \\\n",
              "0     90 min                                      Documentaries   \n",
              "1  2 Seasons    International TV Shows, TV Dramas, TV Mysteries   \n",
              "2   1 Season  Crime TV Shows, International TV Shows, TV Act...   \n",
              "3   1 Season                             Docuseries, Reality TV   \n",
              "4  2 Seasons  International TV Shows, Romantic TV Shows, TV ...   \n",
              "\n",
              "                                         description  \n",
              "0  As her father nears the end of his life, filmm...  \n",
              "1  After crossing paths at a party, a Cape Town t...  \n",
              "2  To protect his family from a powerful drug lor...  \n",
              "3  Feuds, flirtations and toilet talk go down amo...  \n",
              "4  In a city of coaching centers known to train I...  "
            ],
            "text/html": [
              "\n",
              "  <div id=\"df-41261c44-cba8-4cf5-9e01-9dd146f6e72b\">\n",
              "    <div class=\"colab-df-container\">\n",
              "      <div>\n",
              "<style scoped>\n",
              "    .dataframe tbody tr th:only-of-type {\n",
              "        vertical-align: middle;\n",
              "    }\n",
              "\n",
              "    .dataframe tbody tr th {\n",
              "        vertical-align: top;\n",
              "    }\n",
              "\n",
              "    .dataframe thead th {\n",
              "        text-align: right;\n",
              "    }\n",
              "</style>\n",
              "<table border=\"1\" class=\"dataframe\">\n",
              "  <thead>\n",
              "    <tr style=\"text-align: right;\">\n",
              "      <th></th>\n",
              "      <th>show_id</th>\n",
              "      <th>type</th>\n",
              "      <th>title</th>\n",
              "      <th>director</th>\n",
              "      <th>cast</th>\n",
              "      <th>country</th>\n",
              "      <th>date_added</th>\n",
              "      <th>month_added</th>\n",
              "      <th>year_added</th>\n",
              "      <th>release_year</th>\n",
              "      <th>rating</th>\n",
              "      <th>duration</th>\n",
              "      <th>listed_in</th>\n",
              "      <th>description</th>\n",
              "    </tr>\n",
              "  </thead>\n",
              "  <tbody>\n",
              "    <tr>\n",
              "      <th>0</th>\n",
              "      <td>s1</td>\n",
              "      <td>Movie</td>\n",
              "      <td>Dick Johnson Is Dead</td>\n",
              "      <td>Kirsten Johnson</td>\n",
              "      <td></td>\n",
              "      <td>United States</td>\n",
              "      <td>September 25, 2021</td>\n",
              "      <td>9</td>\n",
              "      <td>2021</td>\n",
              "      <td>2020</td>\n",
              "      <td>PG-13</td>\n",
              "      <td>90 min</td>\n",
              "      <td>Documentaries</td>\n",
              "      <td>As her father nears the end of his life, filmm...</td>\n",
              "    </tr>\n",
              "    <tr>\n",
              "      <th>1</th>\n",
              "      <td>s2</td>\n",
              "      <td>TV Show</td>\n",
              "      <td>Blood &amp; Water</td>\n",
              "      <td></td>\n",
              "      <td>Ama Qamata, Khosi Ngema, Gail Mabalane, Thaban...</td>\n",
              "      <td>South Africa</td>\n",
              "      <td>September 24, 2021</td>\n",
              "      <td>9</td>\n",
              "      <td>2021</td>\n",
              "      <td>2021</td>\n",
              "      <td>TV-MA</td>\n",
              "      <td>2 Seasons</td>\n",
              "      <td>International TV Shows, TV Dramas, TV Mysteries</td>\n",
              "      <td>After crossing paths at a party, a Cape Town t...</td>\n",
              "    </tr>\n",
              "    <tr>\n",
              "      <th>2</th>\n",
              "      <td>s3</td>\n",
              "      <td>TV Show</td>\n",
              "      <td>Ganglands</td>\n",
              "      <td>Julien Leclercq</td>\n",
              "      <td>Sami Bouajila, Tracy Gotoas, Samuel Jouy, Nabi...</td>\n",
              "      <td></td>\n",
              "      <td>September 24, 2021</td>\n",
              "      <td>9</td>\n",
              "      <td>2021</td>\n",
              "      <td>2021</td>\n",
              "      <td>TV-MA</td>\n",
              "      <td>1 Season</td>\n",
              "      <td>Crime TV Shows, International TV Shows, TV Act...</td>\n",
              "      <td>To protect his family from a powerful drug lor...</td>\n",
              "    </tr>\n",
              "    <tr>\n",
              "      <th>3</th>\n",
              "      <td>s4</td>\n",
              "      <td>TV Show</td>\n",
              "      <td>Jailbirds New Orleans</td>\n",
              "      <td></td>\n",
              "      <td></td>\n",
              "      <td></td>\n",
              "      <td>September 24, 2021</td>\n",
              "      <td>9</td>\n",
              "      <td>2021</td>\n",
              "      <td>2021</td>\n",
              "      <td>TV-MA</td>\n",
              "      <td>1 Season</td>\n",
              "      <td>Docuseries, Reality TV</td>\n",
              "      <td>Feuds, flirtations and toilet talk go down amo...</td>\n",
              "    </tr>\n",
              "    <tr>\n",
              "      <th>4</th>\n",
              "      <td>s5</td>\n",
              "      <td>TV Show</td>\n",
              "      <td>Kota Factory</td>\n",
              "      <td></td>\n",
              "      <td>Mayur More, Jitendra Kumar, Ranjan Raj, Alam K...</td>\n",
              "      <td>India</td>\n",
              "      <td>September 24, 2021</td>\n",
              "      <td>9</td>\n",
              "      <td>2021</td>\n",
              "      <td>2021</td>\n",
              "      <td>TV-MA</td>\n",
              "      <td>2 Seasons</td>\n",
              "      <td>International TV Shows, Romantic TV Shows, TV ...</td>\n",
              "      <td>In a city of coaching centers known to train I...</td>\n",
              "    </tr>\n",
              "  </tbody>\n",
              "</table>\n",
              "</div>\n",
              "      <button class=\"colab-df-convert\" onclick=\"convertToInteractive('df-41261c44-cba8-4cf5-9e01-9dd146f6e72b')\"\n",
              "              title=\"Convert this dataframe to an interactive table.\"\n",
              "              style=\"display:none;\">\n",
              "        \n",
              "  <svg xmlns=\"http://www.w3.org/2000/svg\" height=\"24px\"viewBox=\"0 0 24 24\"\n",
              "       width=\"24px\">\n",
              "    <path d=\"M0 0h24v24H0V0z\" fill=\"none\"/>\n",
              "    <path d=\"M18.56 5.44l.94 2.06.94-2.06 2.06-.94-2.06-.94-.94-2.06-.94 2.06-2.06.94zm-11 1L8.5 8.5l.94-2.06 2.06-.94-2.06-.94L8.5 2.5l-.94 2.06-2.06.94zm10 10l.94 2.06.94-2.06 2.06-.94-2.06-.94-.94-2.06-.94 2.06-2.06.94z\"/><path d=\"M17.41 7.96l-1.37-1.37c-.4-.4-.92-.59-1.43-.59-.52 0-1.04.2-1.43.59L10.3 9.45l-7.72 7.72c-.78.78-.78 2.05 0 2.83L4 21.41c.39.39.9.59 1.41.59.51 0 1.02-.2 1.41-.59l7.78-7.78 2.81-2.81c.8-.78.8-2.07 0-2.86zM5.41 20L4 18.59l7.72-7.72 1.47 1.35L5.41 20z\"/>\n",
              "  </svg>\n",
              "      </button>\n",
              "      \n",
              "  <style>\n",
              "    .colab-df-container {\n",
              "      display:flex;\n",
              "      flex-wrap:wrap;\n",
              "      gap: 12px;\n",
              "    }\n",
              "\n",
              "    .colab-df-convert {\n",
              "      background-color: #E8F0FE;\n",
              "      border: none;\n",
              "      border-radius: 50%;\n",
              "      cursor: pointer;\n",
              "      display: none;\n",
              "      fill: #1967D2;\n",
              "      height: 32px;\n",
              "      padding: 0 0 0 0;\n",
              "      width: 32px;\n",
              "    }\n",
              "\n",
              "    .colab-df-convert:hover {\n",
              "      background-color: #E2EBFA;\n",
              "      box-shadow: 0px 1px 2px rgba(60, 64, 67, 0.3), 0px 1px 3px 1px rgba(60, 64, 67, 0.15);\n",
              "      fill: #174EA6;\n",
              "    }\n",
              "\n",
              "    [theme=dark] .colab-df-convert {\n",
              "      background-color: #3B4455;\n",
              "      fill: #D2E3FC;\n",
              "    }\n",
              "\n",
              "    [theme=dark] .colab-df-convert:hover {\n",
              "      background-color: #434B5C;\n",
              "      box-shadow: 0px 1px 3px 1px rgba(0, 0, 0, 0.15);\n",
              "      filter: drop-shadow(0px 1px 2px rgba(0, 0, 0, 0.3));\n",
              "      fill: #FFFFFF;\n",
              "    }\n",
              "  </style>\n",
              "\n",
              "      <script>\n",
              "        const buttonEl =\n",
              "          document.querySelector('#df-41261c44-cba8-4cf5-9e01-9dd146f6e72b button.colab-df-convert');\n",
              "        buttonEl.style.display =\n",
              "          google.colab.kernel.accessAllowed ? 'block' : 'none';\n",
              "\n",
              "        async function convertToInteractive(key) {\n",
              "          const element = document.querySelector('#df-41261c44-cba8-4cf5-9e01-9dd146f6e72b');\n",
              "          const dataTable =\n",
              "            await google.colab.kernel.invokeFunction('convertToInteractive',\n",
              "                                                     [key], {});\n",
              "          if (!dataTable) return;\n",
              "\n",
              "          const docLinkHtml = 'Like what you see? Visit the ' +\n",
              "            '<a target=\"_blank\" href=https://colab.research.google.com/notebooks/data_table.ipynb>data table notebook</a>'\n",
              "            + ' to learn more about interactive tables.';\n",
              "          element.innerHTML = '';\n",
              "          dataTable['output_type'] = 'display_data';\n",
              "          await google.colab.output.renderOutput(dataTable, element);\n",
              "          const docLink = document.createElement('div');\n",
              "          docLink.innerHTML = docLinkHtml;\n",
              "          element.appendChild(docLink);\n",
              "        }\n",
              "      </script>\n",
              "    </div>\n",
              "  </div>\n",
              "  "
            ]
          },
          "metadata": {},
          "execution_count": 7
        }
      ],
      "source": [
        "from datetime import datetime\n",
        "# examining rows with null values for date_added column\n",
        "rows = []\n",
        "for i in range(len(netflix_titles)):\n",
        "    if netflix_titles['date_added'].iloc[i] == \"\":\n",
        "        rows.append(i)\n",
        "    \n",
        "# examine those rows to confirm null state\n",
        "netflix_titles.loc[rows, :]\n",
        "# extracting months added and years added\n",
        "month_added = []\n",
        "year_added = []\n",
        "for i in range(len(netflix_titles)):\n",
        "    # replacing NaN values with 0\n",
        "    if i in rows:\n",
        "        month_added.append(0)\n",
        "        year_added.append(0)\n",
        "    else:\n",
        "        date = netflix_titles['date_added'].iloc[i].split(\" \")\n",
        "        month_added.append(date[0])\n",
        "        year_added.append(int(date[2]))\n",
        "        \n",
        "# turning month names into month numbers\n",
        "for i, month in enumerate(month_added):\n",
        "    if month != 0:\n",
        "        datetime_obj = datetime.strptime(month, \"%B\")\n",
        "        month_number = datetime_obj.month\n",
        "        month_added[i] = month_number\n",
        "        \n",
        "# checking all months\n",
        "#print(set(month_added))\n",
        "#print(set(year_added))\n",
        "\n",
        "# inserting the month and year columns into the dataset\n",
        "netflix_titles.insert(7, \"month_added\", month_added, allow_duplicates = True)\n",
        "netflix_titles.insert(8, \"year_added\", year_added, allow_duplicates = True)\n",
        "netflix_titles.head()"
      ]
    },
    {
      "cell_type": "markdown",
      "metadata": {
        "id": "9vQbMxwgkzwP"
      },
      "source": [
        "*One solution to deal with the double-duration issue (minutes vs season) is to separate the dataset into two different ones, one for each type, and we can merge them again when we are done with cleaning. Duration column now will be numerical type having only one unit*"
      ]
    },
    {
      "cell_type": "code",
      "execution_count": 8,
      "metadata": {
        "id": "G_qIRahynWoI"
      },
      "outputs": [],
      "source": [
        "shows = []\n",
        "films = []\n",
        "\n",
        "# looping through the dataset to identify rows that are TV shows and films\n",
        "for i in range(len(netflix_titles)):\n",
        "    if netflix_titles['type'].iloc[i] == \"TV Show\":\n",
        "        shows.append(i)\n",
        "    else:\n",
        "        films.append(i)\n",
        " \n",
        "# grouping rows that are TV shows\n",
        "netflix_shows = netflix_titles.loc[shows, :]\n",
        "\n",
        "#grouping rows that are films\n",
        "netflix_films = netflix_titles.loc[films, :]\n",
        "\n",
        "# reseting the index of the new datasets\n",
        "netflix_shows = netflix_shows.set_index([pd.Index(range(0, len(netflix_shows)))]) \n",
        "netflix_films = netflix_films.set_index([pd.Index(range(0, len(netflix_films)))])\n"
      ]
    },
    {
      "cell_type": "markdown",
      "metadata": {
        "id": "1FGSf0ktob4Z"
      },
      "source": [
        "#### **Extract the numerical info from the duration column to feed each of the new datasets**\n",
        "#### **Replace Nan values with 0**\n"
      ]
    },
    {
      "cell_type": "code",
      "execution_count": 9,
      "metadata": {
        "id": "WsgF9du2oBXi"
      },
      "outputs": [],
      "source": [
        "def getDuration(data):\n",
        "    # count = 0\n",
        "    durations = []\n",
        "    for value in data:\n",
        "\t# filling in missing values\n",
        "        if type(value) is float:\n",
        "            durations.append(0)\n",
        "        else:\n",
        "            values = value.split(\" \")\n",
        "            durations.append(int(values[0]))\n",
        "    return durations\n",
        "    \n",
        "# inserting new duration type column for shows (renamed column)\n",
        "netflix_shows.insert(11, 'seasons', getDuration(netflix_shows['duration']))\n",
        "netflix_shows = netflix_shows.drop(['duration'], axis = 1)\n",
        "netflix_shows.head()\n",
        "\n",
        "# inserting new duration type column for films (renamed column)\n",
        "netflix_films.insert(11, 'length', getDuration(netflix_films['duration']))\n",
        "netflix_films = netflix_films.drop(['duration'], axis = 1)\n",
        "# netflix_films.head() # Now type is movie only with lenth column (no duration and seasons)"
      ]
    },
    {
      "cell_type": "markdown",
      "metadata": {
        "id": "0y_hyHvqqEs1"
      },
      "source": [
        "**Step-7: Analyse unique values of some columns**\n",
        "##### Other than the potentially missing values in some columns, potentially corrupted ones are worth taken into consideration. For this sake, we'll check for the unique values of some columns; those with finite set of unique values and the ones we think might contain corrupted ones.\n",
        "\n",
        "##### rating, country and listed_in are our potential columns"
      ]
    },
    {
      "cell_type": "code",
      "execution_count": 10,
      "metadata": {
        "colab": {
          "base_uri": "https://localhost:8080/"
        },
        "id": "qwK4OKZmoLkW",
        "outputId": "b4b85eec-d219-457a-9f71-bafa8e29f38c"
      },
      "outputs": [
        {
          "output_type": "stream",
          "name": "stdout",
          "text": [
            "Unique ratings for films  ['PG-13' 'PG' 'TV-MA' 'TV-PG' 'TV-14' 'TV-Y' 'R' 'TV-G' 'TV-Y7' 'G'\n",
            " 'NC-17' '74 min' '84 min' '66 min' 'NR' '' 'TV-Y7-FV' 'UR']\n",
            "------------------------------------------------------------------------------------------------\n",
            "Unique ratings for shows  ['TV-MA' 'TV-14' 'TV-Y7' 'TV-PG' 'TV-Y' 'TV-G' 'R' 'NR' '' 'TV-Y7-FV']\n"
          ]
        }
      ],
      "source": [
        "# getting the unique ratings for films\n",
        "print(\"Unique ratings for films \", netflix_films['rating'].unique())\n",
        "\n",
        "print(\"------------------------------------------------------------------------------------------------\")\n",
        "# getting the unique ratings for shows\n",
        "print(\"Unique ratings for shows \", netflix_shows['rating'].unique())"
      ]
    },
    {
      "cell_type": "markdown",
      "metadata": {
        "id": "vl87m5JvyPlB"
      },
      "source": [
        "##### Here we find erroneuos duration values in the rating column, probably caused by invalid comma separations of the original csv file. Besides, UR (unrated) and NR (not rated) are 2 synonymous values\n",
        "\n",
        "##### Let's examine the entire rows of these erroneous values"
      ]
    },
    {
      "cell_type": "code",
      "execution_count": 11,
      "metadata": {
        "colab": {
          "base_uri": "https://localhost:8080/"
        },
        "id": "XGYkGq7FoWLQ",
        "outputId": "4d7feef8-11fd-4f41-b858-330eb5cd38aa"
      },
      "outputs": [
        {
          "output_type": "stream",
          "name": "stdout",
          "text": [
            "show_id                                                     s5542\n",
            "type                                                        Movie\n",
            "title                                             Louis C.K. 2017\n",
            "director                                               Louis C.K.\n",
            "cast                                                   Louis C.K.\n",
            "country                                             United States\n",
            "date_added                                          April 4, 2017\n",
            "month_added                                                     4\n",
            "year_added                                                   2017\n",
            "release_year                                                 2017\n",
            "rating                                                     74 min\n",
            "length                                                          0\n",
            "listed_in                                                  Movies\n",
            "description     Louis C.K. muses on religion, eternal love, gi...\n",
            "Name: 3562, dtype: object\n",
            "\n",
            "show_id                                                     s5795\n",
            "type                                                        Movie\n",
            "title                                       Louis C.K.: Hilarious\n",
            "director                                               Louis C.K.\n",
            "cast                                                   Louis C.K.\n",
            "country                                             United States\n",
            "date_added                                     September 16, 2016\n",
            "month_added                                                     9\n",
            "year_added                                                   2016\n",
            "release_year                                                 2010\n",
            "rating                                                     84 min\n",
            "length                                                          0\n",
            "listed_in                                                  Movies\n",
            "description     Emmy-winning comedy writer Louis C.K. brings h...\n",
            "Name: 3738, dtype: object\n",
            "\n",
            "show_id                                                     s5814\n",
            "type                                                        Movie\n",
            "title                        Louis C.K.: Live at the Comedy Store\n",
            "director                                               Louis C.K.\n",
            "cast                                                   Louis C.K.\n",
            "country                                             United States\n",
            "date_added                                        August 15, 2016\n",
            "month_added                                                     8\n",
            "year_added                                                   2016\n",
            "release_year                                                 2015\n",
            "rating                                                     66 min\n",
            "length                                                          0\n",
            "listed_in                                                  Movies\n",
            "description     The comic puts his trademark hilarious/thought...\n",
            "Name: 3747, dtype: object\n",
            "\n"
          ]
        }
      ],
      "source": [
        "incorrect_ratings = ['74 min', '84 min', '66 min']\n",
        "for i in range(len(netflix_films)):\n",
        "    if netflix_films['rating'].iloc[i] in incorrect_ratings:\n",
        "        print(netflix_films.iloc[i])\n",
        "        print(\"\")"
      ]
    },
    {
      "cell_type": "markdown",
      "metadata": {
        "id": "jYeoz83F0iG9"
      },
      "source": [
        "##### We'll fix the issue by placing these faulty values in the length column instead, and fill the empty rating column with the NR value"
      ]
    },
    {
      "cell_type": "code",
      "execution_count": 12,
      "metadata": {
        "colab": {
          "base_uri": "https://localhost:8080/"
        },
        "id": "M-YDDArfqDZD",
        "outputId": "ceee03aa-9dc8-4761-c352-0632cac18ca9"
      },
      "outputs": [
        {
          "output_type": "stream",
          "name": "stdout",
          "text": [
            "show_id                                                     s5542\n",
            "type                                                        Movie\n",
            "title                                             Louis C.K. 2017\n",
            "director                                               Louis C.K.\n",
            "cast                                                   Louis C.K.\n",
            "country                                             United States\n",
            "date_added                                          April 4, 2017\n",
            "month_added                                                     4\n",
            "year_added                                                   2017\n",
            "release_year                                                 2017\n",
            "rating                                                         NR\n",
            "length                                                         74\n",
            "listed_in                                                  Movies\n",
            "description     Louis C.K. muses on religion, eternal love, gi...\n",
            "Name: 3562, dtype: object\n",
            "show_id                                                     s5795\n",
            "type                                                        Movie\n",
            "title                                       Louis C.K.: Hilarious\n",
            "director                                               Louis C.K.\n",
            "cast                                                   Louis C.K.\n",
            "country                                             United States\n",
            "date_added                                     September 16, 2016\n",
            "month_added                                                     9\n",
            "year_added                                                   2016\n",
            "release_year                                                 2010\n",
            "rating                                                         NR\n",
            "length                                                         84\n",
            "listed_in                                                  Movies\n",
            "description     Emmy-winning comedy writer Louis C.K. brings h...\n",
            "Name: 3738, dtype: object\n",
            "show_id                                                     s5814\n",
            "type                                                        Movie\n",
            "title                        Louis C.K.: Live at the Comedy Store\n",
            "director                                               Louis C.K.\n",
            "cast                                                   Louis C.K.\n",
            "country                                             United States\n",
            "date_added                                        August 15, 2016\n",
            "month_added                                                     8\n",
            "year_added                                                   2016\n",
            "release_year                                                 2015\n",
            "rating                                                         NR\n",
            "length                                                         66\n",
            "listed_in                                                  Movies\n",
            "description     The comic puts his trademark hilarious/thought...\n",
            "Name: 3747, dtype: object\n"
          ]
        },
        {
          "output_type": "stream",
          "name": "stderr",
          "text": [
            "<ipython-input-12-3e5080e52faa>:7: SettingWithCopyWarning: \n",
            "A value is trying to be set on a copy of a slice from a DataFrame\n",
            "\n",
            "See the caveats in the documentation: https://pandas.pydata.org/pandas-docs/stable/user_guide/indexing.html#returning-a-view-versus-a-copy\n",
            "  netflix_films['length'].iloc[i] = length # it was netflix_films['duration'].iloc[i] = length, we don't have duration coulmn anymore\n",
            "<ipython-input-12-3e5080e52faa>:8: SettingWithCopyWarning: \n",
            "A value is trying to be set on a copy of a slice from a DataFrame\n",
            "\n",
            "See the caveats in the documentation: https://pandas.pydata.org/pandas-docs/stable/user_guide/indexing.html#returning-a-view-versus-a-copy\n",
            "  netflix_films['rating'].iloc[i] = \"NR\"\n"
          ]
        }
      ],
      "source": [
        "index = [3562, 3738, 3747]\n",
        "\n",
        "# fixing the entries\n",
        "for i in index:\n",
        "    split_value = netflix_films['rating'].iloc[i].split(\" \")\n",
        "    length = split_value[0]\n",
        "    netflix_films['length'].iloc[i] = length # it was netflix_films['duration'].iloc[i] = length, we don't have duration coulmn anymore\n",
        "    netflix_films['rating'].iloc[i] = \"NR\"\n",
        "    \n",
        "# double checking the entries again\n",
        "for i in index:\n",
        "    print(netflix_films.iloc[i])"
      ]
    },
    {
      "cell_type": "markdown",
      "metadata": {
        "id": "kBOU9Dyk3n8e"
      },
      "source": [
        "*Keeping the consistency between the 2 datasets, we'll unify the NR value in netflix_films following the shows.*"
      ]
    },
    {
      "cell_type": "code",
      "execution_count": 13,
      "metadata": {
        "colab": {
          "base_uri": "https://localhost:8080/"
        },
        "id": "Zlwwv355qR8E",
        "outputId": "77811991-a1cb-438e-991b-9ed0a3e7cac1"
      },
      "outputs": [
        {
          "output_type": "stream",
          "name": "stderr",
          "text": [
            "<ipython-input-13-e678d0eb6d67>:4: SettingWithCopyWarning: \n",
            "A value is trying to be set on a copy of a slice from a DataFrame\n",
            "\n",
            "See the caveats in the documentation: https://pandas.pydata.org/pandas-docs/stable/user_guide/indexing.html#returning-a-view-versus-a-copy\n",
            "  netflix_films['rating'].iloc[i] = \"NR\"\n"
          ]
        },
        {
          "output_type": "execute_result",
          "data": {
            "text/plain": [
              "array(['PG-13', 'PG', 'TV-MA', 'TV-PG', 'TV-14', 'TV-Y', 'R', 'TV-G',\n",
              "       'TV-Y7', 'G', 'NC-17', 'NR', '', 'TV-Y7-FV'], dtype=object)"
            ]
          },
          "metadata": {},
          "execution_count": 13
        }
      ],
      "source": [
        "# fixing the entries\n",
        "for i in range(len(netflix_films)):\n",
        "    if netflix_films['rating'].iloc[i] == \"UR\":\n",
        "        netflix_films['rating'].iloc[i] = \"NR\"\n",
        "        \n",
        "# double checking\n",
        "netflix_films['rating'].unique()"
      ]
    },
    {
      "cell_type": "markdown",
      "metadata": {
        "id": "9XQ5I1M-4WAU"
      },
      "source": [
        "##### Following the same process we did for rating column with listed_in and country ones, we'll no longer use the python built-in unique(), as these values are comma-separated words. We need to implement our getUnique instead."
      ]
    },
    {
      "cell_type": "code",
      "execution_count": 14,
      "metadata": {
        "id": "YnXQyEJPqkSj"
      },
      "outputs": [],
      "source": [
        "def getUnique(data):\n",
        "    unique_values = set()\n",
        "    for value in data:\n",
        "        if type(value) is float:\n",
        "            unique_values.add(None)\n",
        "        else:\n",
        "            values = value.split(\", \")\n",
        "            for i in values:\n",
        "                unique_values.add(i)\n",
        "    return list(unique_values)"
      ]
    },
    {
      "cell_type": "markdown",
      "metadata": {
        "id": "LZp0laN05HyI"
      },
      "source": [
        "##### Let's apply it on the country column"
      ]
    },
    {
      "cell_type": "code",
      "execution_count": 15,
      "metadata": {
        "colab": {
          "base_uri": "https://localhost:8080/"
        },
        "id": "YnUREV2DqwQp",
        "outputId": "9210b4d9-7a7b-4774-b47a-6a4e6043e950"
      },
      "outputs": [
        {
          "output_type": "execute_result",
          "data": {
            "text/plain": [
              "['',\n",
              " 'Italy',\n",
              " 'Slovakia',\n",
              " 'Cuba',\n",
              " 'Ireland',\n",
              " 'Panama',\n",
              " 'Russia',\n",
              " 'Ukraine',\n",
              " 'Qatar',\n",
              " 'Liechtenstein',\n",
              " 'Georgia',\n",
              " 'Peru',\n",
              " 'South Africa',\n",
              " 'Saudi Arabia',\n",
              " 'Ecuador',\n",
              " 'Hong Kong',\n",
              " 'Mexico',\n",
              " 'United States',\n",
              " 'Burkina Faso',\n",
              " 'Kazakhstan',\n",
              " 'Venezuela',\n",
              " 'Somalia',\n",
              " 'Iceland',\n",
              " 'Hungary',\n",
              " 'Sri Lanka',\n",
              " 'China',\n",
              " 'East Germany',\n",
              " 'Botswana',\n",
              " 'Germany',\n",
              " 'Romania',\n",
              " 'Syria',\n",
              " 'Indonesia',\n",
              " 'United Arab Emirates',\n",
              " 'Norway',\n",
              " 'Netherlands',\n",
              " 'Uruguay',\n",
              " 'Jamaica',\n",
              " 'Belgium',\n",
              " 'Nicaragua',\n",
              " 'South Korea',\n",
              " 'Bahamas',\n",
              " 'Malta',\n",
              " 'United Kingdom,',\n",
              " 'Singapore',\n",
              " 'Malaysia',\n",
              " 'Poland',\n",
              " 'Angola',\n",
              " 'Iran',\n",
              " 'Czech Republic',\n",
              " 'Mauritius',\n",
              " 'Kuwait',\n",
              " 'Cambodia',\n",
              " 'Denmark',\n",
              " 'Bermuda',\n",
              " 'Thailand',\n",
              " 'Finland',\n",
              " 'Pakistan',\n",
              " 'Lithuania',\n",
              " 'Malawi',\n",
              " 'Senegal',\n",
              " 'Armenia',\n",
              " 'Bangladesh',\n",
              " 'Austria',\n",
              " 'Israel',\n",
              " 'Greece',\n",
              " 'Spain',\n",
              " 'Uganda',\n",
              " 'Albania',\n",
              " 'Poland,',\n",
              " 'Bulgaria',\n",
              " 'Brazil',\n",
              " 'Soviet Union',\n",
              " 'Serbia',\n",
              " 'Mongolia',\n",
              " 'Vatican City',\n",
              " 'Nigeria',\n",
              " 'Luxembourg',\n",
              " 'Samoa',\n",
              " 'Latvia',\n",
              " 'Belarus',\n",
              " 'Australia',\n",
              " 'Canada',\n",
              " 'Sudan',\n",
              " 'Jordan',\n",
              " 'Algeria',\n",
              " 'Switzerland',\n",
              " 'India',\n",
              " 'Cameroon',\n",
              " 'Cyprus',\n",
              " 'Azerbaijan',\n",
              " 'Colombia',\n",
              " 'Mozambique',\n",
              " 'Portugal',\n",
              " 'New Zealand',\n",
              " 'Cayman Islands',\n",
              " 'Nepal',\n",
              " 'Taiwan',\n",
              " 'Morocco',\n",
              " 'Slovenia',\n",
              " 'Montenegro',\n",
              " 'Paraguay',\n",
              " 'Croatia',\n",
              " 'Egypt',\n",
              " 'France',\n",
              " 'Namibia',\n",
              " 'Kenya',\n",
              " 'Argentina',\n",
              " 'Philippines',\n",
              " 'Ghana',\n",
              " 'Sweden',\n",
              " 'Cambodia,',\n",
              " 'Puerto Rico',\n",
              " 'Chile',\n",
              " 'Guatemala',\n",
              " 'Lebanon',\n",
              " 'Dominican Republic',\n",
              " 'Zimbabwe',\n",
              " 'Vietnam',\n",
              " 'Iraq',\n",
              " 'West Germany',\n",
              " 'Afghanistan',\n",
              " 'Japan',\n",
              " 'United Kingdom',\n",
              " 'Turkey',\n",
              " 'Ethiopia',\n",
              " 'United States,',\n",
              " 'Palestine']"
            ]
          },
          "metadata": {},
          "execution_count": 15
        }
      ],
      "source": [
        "unique_countries = getUnique(netflix_titles['country'])\n",
        "unique_countries"
      ]
    },
    {
      "cell_type": "markdown",
      "metadata": {
        "id": "UIbJujX76N-H"
      },
      "source": [
        "*A couple of potential problems are found here with the aid of some Googling, there are entries of Germany, alongside with east/west Germany. Also, Russia is addressed as Soviet union. We'll need to unify things, as follows.*"
      ]
    },
    {
      "cell_type": "code",
      "execution_count": 16,
      "metadata": {
        "colab": {
          "base_uri": "https://localhost:8080/"
        },
        "id": "Lp1VNTWiq585",
        "outputId": "de920a0f-7e76-4079-a3cc-994fd5b9688b"
      },
      "outputs": [
        {
          "output_type": "stream",
          "name": "stderr",
          "text": [
            "<ipython-input-16-4b7bd33d62d2>:10: SettingWithCopyWarning: \n",
            "A value is trying to be set on a copy of a slice from a DataFrame\n",
            "\n",
            "See the caveats in the documentation: https://pandas.pydata.org/pandas-docs/stable/user_guide/indexing.html#returning-a-view-versus-a-copy\n",
            "  netflix_titles['country'].iloc[i] = \", \".join(countries)\n"
          ]
        }
      ],
      "source": [
        "# converting soviet union to russia and east/west germany to germany\n",
        "for i in range(len(netflix_titles)):\n",
        "    if type(netflix_titles['country'].iloc[i]) is not float:\n",
        "        countries = netflix_titles['country'].iloc[i].split(\", \")\n",
        "        for j in range(len(countries)):\n",
        "            if \"Germany\" in countries[j]:\n",
        "                countries[j] = \"Germany\"\n",
        "            elif \"Soviet Union\" in countries[j]:\n",
        "                countries[j] = \"Russia\"\n",
        "        netflix_titles['country'].iloc[i] = \", \".join(countries)"
      ]
    },
    {
      "cell_type": "code",
      "execution_count": 17,
      "metadata": {
        "colab": {
          "base_uri": "https://localhost:8080/"
        },
        "id": "a9ortRr0rTRZ",
        "outputId": "b41b167a-3f77-48f4-cf56-6ffa0a009f8f"
      },
      "outputs": [
        {
          "output_type": "execute_result",
          "data": {
            "text/plain": [
              "['TV Dramas',\n",
              " 'International TV Shows',\n",
              " 'TV Action & Adventure',\n",
              " 'Romantic TV Shows',\n",
              " 'Teen TV Shows',\n",
              " 'Reality TV',\n",
              " 'British TV Shows',\n",
              " 'Classic & Cult TV',\n",
              " 'Science & Nature TV',\n",
              " 'TV Comedies',\n",
              " 'TV Thrillers',\n",
              " 'Korean TV Shows',\n",
              " 'Stand-Up Comedy & Talk Shows',\n",
              " 'Spanish-Language TV Shows',\n",
              " 'TV Sci-Fi & Fantasy',\n",
              " 'TV Shows',\n",
              " \"Kids' TV\",\n",
              " 'Anime Series',\n",
              " 'Crime TV Shows',\n",
              " 'TV Horror',\n",
              " 'TV Mysteries',\n",
              " 'Docuseries']"
            ]
          },
          "metadata": {},
          "execution_count": 17
        }
      ],
      "source": [
        "unique_genres_films = getUnique(netflix_shows['listed_in'])\n",
        "unique_genres_films\n"
      ]
    },
    {
      "cell_type": "markdown",
      "metadata": {
        "id": "OpiI6mBE8s0N"
      },
      "source": [
        "Analysing the unique genres of both of datasets, we find recurring TV-show and Movie genres. Are they just a label to each type? We can check by counting them. If their count is the same as each dataset size, then yes!"
      ]
    },
    {
      "cell_type": "code",
      "execution_count": 18,
      "metadata": {
        "colab": {
          "base_uri": "https://localhost:8080/"
        },
        "id": "Wb8UFHS79o73",
        "outputId": "000c651a-aae5-4b32-8803-d6fb0ce8f382"
      },
      "outputs": [
        {
          "output_type": "stream",
          "name": "stdout",
          "text": [
            "count 16\n",
            "index [59, 110, 272, 286, 452, 599, 991, 1432, 1548, 1808, 1840, 2107, 2160, 2190, 2465, 2559]\n",
            "count 73\n",
            "index [59, 110, 272, 286, 452, 599, 991, 1432, 1548, 1808, 1840, 2107, 2160, 2190, 2465, 2559]\n"
          ]
        }
      ],
      "source": [
        "count = 0\n",
        "index, index2 = [], []\n",
        "for i, value in enumerate(netflix_shows['listed_in']):\n",
        "    genres = value.split(\", \")\n",
        "    if \"TV Shows\" in genres:\n",
        "        count += 1\n",
        "        index.append(i)\n",
        "print(\"count %s\" %count)\n",
        "print(\"index %s\" %index)\n",
        "\n",
        "for i, value in enumerate(netflix_films['listed_in']):\n",
        "    genres = value.split(\", \")\n",
        "    if \"Movies\" in genres:\n",
        "        count += 1\n",
        "        index2.append(i)\n",
        "print(\"count %s\" %count)\n",
        "print(\"index %s\" %index)"
      ]
    },
    {
      "cell_type": "markdown",
      "metadata": {
        "id": "YDClD3iv_IL4"
      },
      "source": [
        "*Let's examine the first 5 rows in those sets containing TV-shows and Movies as genres*"
      ]
    },
    {
      "cell_type": "code",
      "execution_count": 19,
      "metadata": {
        "colab": {
          "base_uri": "https://localhost:8080/",
          "height": 721
        },
        "id": "KVKeCoKP-aE6",
        "outputId": "d8c81bee-935d-41ba-b769-e9b21dbaa845"
      },
      "outputs": [
        {
          "output_type": "execute_result",
          "data": {
            "text/plain": [
              "    show_id     type                                          title  \\\n",
              "59     s149  TV Show                                     HQ Barbers   \n",
              "110    s298  TV Show                                       Navarasa   \n",
              "272    s727  TV Show                Metallica: Some Kind of Monster   \n",
              "286    s772  TV Show  Pretty Guardian Sailor Moon Eternal The Movie   \n",
              "452   s1332  TV Show            Five Came Back: The Reference Films   \n",
              "\n",
              "                                              director  \\\n",
              "59                                     Gerhard Mostert   \n",
              "110  Bejoy Nambiar, Priyadarshan, Karthik Narain, V...   \n",
              "272                      Joe Berlinger, Bruce Sinofsky   \n",
              "286                                         Chiaki Kon   \n",
              "452                                                      \n",
              "\n",
              "                                                  cast        country  \\\n",
              "59   Hakeem Kae-Kazim, Chioma Omeruah, Orukotan Ade...                  \n",
              "110  Suriya, Vijay Sethupathi, Revathy, Prakash Raj...          India   \n",
              "272  James Hetfield, Lars Ulrich, Kirk Hammett, Rob...  United States   \n",
              "286  Kotono Mitsuishi, Hisako Kanemoto, Rina Satou,...                  \n",
              "452                                                     United States   \n",
              "\n",
              "            date_added  month_added  year_added  release_year rating  seasons  \\\n",
              "59   September 1, 2021            9        2021          2020  TV-14        1   \n",
              "110     August 6, 2021            8        2021          2021  TV-MA        1   \n",
              "272      June 13, 2021            6        2021          2014  TV-MA        1   \n",
              "286       June 3, 2021            6        2021          2021  TV-14        1   \n",
              "452   February 9, 2021            2        2021          1945  TV-MA        1   \n",
              "\n",
              "    listed_in                                        description  \n",
              "59   TV Shows  When a family run barber shop in the heart of ...  \n",
              "110  TV Shows  From amusement to awe, the nine human emotions...  \n",
              "272  TV Shows  This collection includes the acclaimed rock do...  \n",
              "286  TV Shows  When a dark power enshrouds the Earth after a ...  \n",
              "452  TV Shows  This collection includes 12 World War II-era p...  "
            ],
            "text/html": [
              "\n",
              "  <div id=\"df-0a3fd857-f775-4ea4-8f25-220928938fd0\">\n",
              "    <div class=\"colab-df-container\">\n",
              "      <div>\n",
              "<style scoped>\n",
              "    .dataframe tbody tr th:only-of-type {\n",
              "        vertical-align: middle;\n",
              "    }\n",
              "\n",
              "    .dataframe tbody tr th {\n",
              "        vertical-align: top;\n",
              "    }\n",
              "\n",
              "    .dataframe thead th {\n",
              "        text-align: right;\n",
              "    }\n",
              "</style>\n",
              "<table border=\"1\" class=\"dataframe\">\n",
              "  <thead>\n",
              "    <tr style=\"text-align: right;\">\n",
              "      <th></th>\n",
              "      <th>show_id</th>\n",
              "      <th>type</th>\n",
              "      <th>title</th>\n",
              "      <th>director</th>\n",
              "      <th>cast</th>\n",
              "      <th>country</th>\n",
              "      <th>date_added</th>\n",
              "      <th>month_added</th>\n",
              "      <th>year_added</th>\n",
              "      <th>release_year</th>\n",
              "      <th>rating</th>\n",
              "      <th>seasons</th>\n",
              "      <th>listed_in</th>\n",
              "      <th>description</th>\n",
              "    </tr>\n",
              "  </thead>\n",
              "  <tbody>\n",
              "    <tr>\n",
              "      <th>59</th>\n",
              "      <td>s149</td>\n",
              "      <td>TV Show</td>\n",
              "      <td>HQ Barbers</td>\n",
              "      <td>Gerhard Mostert</td>\n",
              "      <td>Hakeem Kae-Kazim, Chioma Omeruah, Orukotan Ade...</td>\n",
              "      <td></td>\n",
              "      <td>September 1, 2021</td>\n",
              "      <td>9</td>\n",
              "      <td>2021</td>\n",
              "      <td>2020</td>\n",
              "      <td>TV-14</td>\n",
              "      <td>1</td>\n",
              "      <td>TV Shows</td>\n",
              "      <td>When a family run barber shop in the heart of ...</td>\n",
              "    </tr>\n",
              "    <tr>\n",
              "      <th>110</th>\n",
              "      <td>s298</td>\n",
              "      <td>TV Show</td>\n",
              "      <td>Navarasa</td>\n",
              "      <td>Bejoy Nambiar, Priyadarshan, Karthik Narain, V...</td>\n",
              "      <td>Suriya, Vijay Sethupathi, Revathy, Prakash Raj...</td>\n",
              "      <td>India</td>\n",
              "      <td>August 6, 2021</td>\n",
              "      <td>8</td>\n",
              "      <td>2021</td>\n",
              "      <td>2021</td>\n",
              "      <td>TV-MA</td>\n",
              "      <td>1</td>\n",
              "      <td>TV Shows</td>\n",
              "      <td>From amusement to awe, the nine human emotions...</td>\n",
              "    </tr>\n",
              "    <tr>\n",
              "      <th>272</th>\n",
              "      <td>s727</td>\n",
              "      <td>TV Show</td>\n",
              "      <td>Metallica: Some Kind of Monster</td>\n",
              "      <td>Joe Berlinger, Bruce Sinofsky</td>\n",
              "      <td>James Hetfield, Lars Ulrich, Kirk Hammett, Rob...</td>\n",
              "      <td>United States</td>\n",
              "      <td>June 13, 2021</td>\n",
              "      <td>6</td>\n",
              "      <td>2021</td>\n",
              "      <td>2014</td>\n",
              "      <td>TV-MA</td>\n",
              "      <td>1</td>\n",
              "      <td>TV Shows</td>\n",
              "      <td>This collection includes the acclaimed rock do...</td>\n",
              "    </tr>\n",
              "    <tr>\n",
              "      <th>286</th>\n",
              "      <td>s772</td>\n",
              "      <td>TV Show</td>\n",
              "      <td>Pretty Guardian Sailor Moon Eternal The Movie</td>\n",
              "      <td>Chiaki Kon</td>\n",
              "      <td>Kotono Mitsuishi, Hisako Kanemoto, Rina Satou,...</td>\n",
              "      <td></td>\n",
              "      <td>June 3, 2021</td>\n",
              "      <td>6</td>\n",
              "      <td>2021</td>\n",
              "      <td>2021</td>\n",
              "      <td>TV-14</td>\n",
              "      <td>1</td>\n",
              "      <td>TV Shows</td>\n",
              "      <td>When a dark power enshrouds the Earth after a ...</td>\n",
              "    </tr>\n",
              "    <tr>\n",
              "      <th>452</th>\n",
              "      <td>s1332</td>\n",
              "      <td>TV Show</td>\n",
              "      <td>Five Came Back: The Reference Films</td>\n",
              "      <td></td>\n",
              "      <td></td>\n",
              "      <td>United States</td>\n",
              "      <td>February 9, 2021</td>\n",
              "      <td>2</td>\n",
              "      <td>2021</td>\n",
              "      <td>1945</td>\n",
              "      <td>TV-MA</td>\n",
              "      <td>1</td>\n",
              "      <td>TV Shows</td>\n",
              "      <td>This collection includes 12 World War II-era p...</td>\n",
              "    </tr>\n",
              "  </tbody>\n",
              "</table>\n",
              "</div>\n",
              "      <button class=\"colab-df-convert\" onclick=\"convertToInteractive('df-0a3fd857-f775-4ea4-8f25-220928938fd0')\"\n",
              "              title=\"Convert this dataframe to an interactive table.\"\n",
              "              style=\"display:none;\">\n",
              "        \n",
              "  <svg xmlns=\"http://www.w3.org/2000/svg\" height=\"24px\"viewBox=\"0 0 24 24\"\n",
              "       width=\"24px\">\n",
              "    <path d=\"M0 0h24v24H0V0z\" fill=\"none\"/>\n",
              "    <path d=\"M18.56 5.44l.94 2.06.94-2.06 2.06-.94-2.06-.94-.94-2.06-.94 2.06-2.06.94zm-11 1L8.5 8.5l.94-2.06 2.06-.94-2.06-.94L8.5 2.5l-.94 2.06-2.06.94zm10 10l.94 2.06.94-2.06 2.06-.94-2.06-.94-.94-2.06-.94 2.06-2.06.94z\"/><path d=\"M17.41 7.96l-1.37-1.37c-.4-.4-.92-.59-1.43-.59-.52 0-1.04.2-1.43.59L10.3 9.45l-7.72 7.72c-.78.78-.78 2.05 0 2.83L4 21.41c.39.39.9.59 1.41.59.51 0 1.02-.2 1.41-.59l7.78-7.78 2.81-2.81c.8-.78.8-2.07 0-2.86zM5.41 20L4 18.59l7.72-7.72 1.47 1.35L5.41 20z\"/>\n",
              "  </svg>\n",
              "      </button>\n",
              "      \n",
              "  <style>\n",
              "    .colab-df-container {\n",
              "      display:flex;\n",
              "      flex-wrap:wrap;\n",
              "      gap: 12px;\n",
              "    }\n",
              "\n",
              "    .colab-df-convert {\n",
              "      background-color: #E8F0FE;\n",
              "      border: none;\n",
              "      border-radius: 50%;\n",
              "      cursor: pointer;\n",
              "      display: none;\n",
              "      fill: #1967D2;\n",
              "      height: 32px;\n",
              "      padding: 0 0 0 0;\n",
              "      width: 32px;\n",
              "    }\n",
              "\n",
              "    .colab-df-convert:hover {\n",
              "      background-color: #E2EBFA;\n",
              "      box-shadow: 0px 1px 2px rgba(60, 64, 67, 0.3), 0px 1px 3px 1px rgba(60, 64, 67, 0.15);\n",
              "      fill: #174EA6;\n",
              "    }\n",
              "\n",
              "    [theme=dark] .colab-df-convert {\n",
              "      background-color: #3B4455;\n",
              "      fill: #D2E3FC;\n",
              "    }\n",
              "\n",
              "    [theme=dark] .colab-df-convert:hover {\n",
              "      background-color: #434B5C;\n",
              "      box-shadow: 0px 1px 3px 1px rgba(0, 0, 0, 0.15);\n",
              "      filter: drop-shadow(0px 1px 2px rgba(0, 0, 0, 0.3));\n",
              "      fill: #FFFFFF;\n",
              "    }\n",
              "  </style>\n",
              "\n",
              "      <script>\n",
              "        const buttonEl =\n",
              "          document.querySelector('#df-0a3fd857-f775-4ea4-8f25-220928938fd0 button.colab-df-convert');\n",
              "        buttonEl.style.display =\n",
              "          google.colab.kernel.accessAllowed ? 'block' : 'none';\n",
              "\n",
              "        async function convertToInteractive(key) {\n",
              "          const element = document.querySelector('#df-0a3fd857-f775-4ea4-8f25-220928938fd0');\n",
              "          const dataTable =\n",
              "            await google.colab.kernel.invokeFunction('convertToInteractive',\n",
              "                                                     [key], {});\n",
              "          if (!dataTable) return;\n",
              "\n",
              "          const docLinkHtml = 'Like what you see? Visit the ' +\n",
              "            '<a target=\"_blank\" href=https://colab.research.google.com/notebooks/data_table.ipynb>data table notebook</a>'\n",
              "            + ' to learn more about interactive tables.';\n",
              "          element.innerHTML = '';\n",
              "          dataTable['output_type'] = 'display_data';\n",
              "          await google.colab.output.renderOutput(dataTable, element);\n",
              "          const docLink = document.createElement('div');\n",
              "          docLink.innerHTML = docLinkHtml;\n",
              "          element.appendChild(docLink);\n",
              "        }\n",
              "      </script>\n",
              "    </div>\n",
              "  </div>\n",
              "  "
            ]
          },
          "metadata": {},
          "execution_count": 19
        }
      ],
      "source": [
        "(netflix_shows.iloc[index[0:5]])"
      ]
    },
    {
      "cell_type": "code",
      "execution_count": 20,
      "metadata": {
        "colab": {
          "base_uri": "https://localhost:8080/",
          "height": 666
        },
        "id": "toQ4UnfM-6A_",
        "outputId": "bc191e98-f198-4b19-abe2-190bd4ddee17"
      },
      "outputs": [
        {
          "output_type": "execute_result",
          "data": {
            "text/plain": [
              "    show_id   type                                              title  \\\n",
              "197    s309  Movie           American Masters: Inventing David Geffen   \n",
              "310    s471  Movie                        Bridgerton - The Afterparty   \n",
              "456    s730  Movie                      Bling Empire - The Afterparty   \n",
              "457    s731  Movie                         Cobra Kai - The Afterparty   \n",
              "458    s733  Movie  To All the Boys: Always and Forever - The Afte...   \n",
              "\n",
              "       director                                               cast  \\\n",
              "197  Susan Lacy                                       David Geffen   \n",
              "310                   David Spade, London Hughes, Fortune Feimster   \n",
              "456                   David Spade, London Hughes, Fortune Feimster   \n",
              "457                   David Spade, London Hughes, Fortune Feimster   \n",
              "458              Cast members of the \"To All the Boys\" films di...   \n",
              "\n",
              "           country      date_added  month_added  year_added  release_year  \\\n",
              "197  United States  August 4, 2021            8        2021          2012   \n",
              "310                  July 13, 2021            7        2021          2021   \n",
              "456                  June 12, 2021            6        2021          2021   \n",
              "457                  June 12, 2021            6        2021          2021   \n",
              "458                  June 12, 2021            6        2021          2021   \n",
              "\n",
              "    rating length listed_in                                        description  \n",
              "197  TV-MA    115    Movies  The son of Jewish immigrants, David Geffen eme...  \n",
              "310  TV-14     39    Movies  \"Bridgerton\" cast members share behind-the-sce...  \n",
              "456  TV-MA     36    Movies  The stars of \"Bling Empire\" discuss the show's...  \n",
              "457  TV-MA     34    Movies  Ralph Macchio, William Zabka and more from the...  \n",
              "458  TV-MA     36    Movies  Cast members of the \"To All the Boys\" films di...  "
            ],
            "text/html": [
              "\n",
              "  <div id=\"df-02f4a696-8e6f-4796-a9a8-7ff12f629f1c\">\n",
              "    <div class=\"colab-df-container\">\n",
              "      <div>\n",
              "<style scoped>\n",
              "    .dataframe tbody tr th:only-of-type {\n",
              "        vertical-align: middle;\n",
              "    }\n",
              "\n",
              "    .dataframe tbody tr th {\n",
              "        vertical-align: top;\n",
              "    }\n",
              "\n",
              "    .dataframe thead th {\n",
              "        text-align: right;\n",
              "    }\n",
              "</style>\n",
              "<table border=\"1\" class=\"dataframe\">\n",
              "  <thead>\n",
              "    <tr style=\"text-align: right;\">\n",
              "      <th></th>\n",
              "      <th>show_id</th>\n",
              "      <th>type</th>\n",
              "      <th>title</th>\n",
              "      <th>director</th>\n",
              "      <th>cast</th>\n",
              "      <th>country</th>\n",
              "      <th>date_added</th>\n",
              "      <th>month_added</th>\n",
              "      <th>year_added</th>\n",
              "      <th>release_year</th>\n",
              "      <th>rating</th>\n",
              "      <th>length</th>\n",
              "      <th>listed_in</th>\n",
              "      <th>description</th>\n",
              "    </tr>\n",
              "  </thead>\n",
              "  <tbody>\n",
              "    <tr>\n",
              "      <th>197</th>\n",
              "      <td>s309</td>\n",
              "      <td>Movie</td>\n",
              "      <td>American Masters: Inventing David Geffen</td>\n",
              "      <td>Susan Lacy</td>\n",
              "      <td>David Geffen</td>\n",
              "      <td>United States</td>\n",
              "      <td>August 4, 2021</td>\n",
              "      <td>8</td>\n",
              "      <td>2021</td>\n",
              "      <td>2012</td>\n",
              "      <td>TV-MA</td>\n",
              "      <td>115</td>\n",
              "      <td>Movies</td>\n",
              "      <td>The son of Jewish immigrants, David Geffen eme...</td>\n",
              "    </tr>\n",
              "    <tr>\n",
              "      <th>310</th>\n",
              "      <td>s471</td>\n",
              "      <td>Movie</td>\n",
              "      <td>Bridgerton - The Afterparty</td>\n",
              "      <td></td>\n",
              "      <td>David Spade, London Hughes, Fortune Feimster</td>\n",
              "      <td></td>\n",
              "      <td>July 13, 2021</td>\n",
              "      <td>7</td>\n",
              "      <td>2021</td>\n",
              "      <td>2021</td>\n",
              "      <td>TV-14</td>\n",
              "      <td>39</td>\n",
              "      <td>Movies</td>\n",
              "      <td>\"Bridgerton\" cast members share behind-the-sce...</td>\n",
              "    </tr>\n",
              "    <tr>\n",
              "      <th>456</th>\n",
              "      <td>s730</td>\n",
              "      <td>Movie</td>\n",
              "      <td>Bling Empire - The Afterparty</td>\n",
              "      <td></td>\n",
              "      <td>David Spade, London Hughes, Fortune Feimster</td>\n",
              "      <td></td>\n",
              "      <td>June 12, 2021</td>\n",
              "      <td>6</td>\n",
              "      <td>2021</td>\n",
              "      <td>2021</td>\n",
              "      <td>TV-MA</td>\n",
              "      <td>36</td>\n",
              "      <td>Movies</td>\n",
              "      <td>The stars of \"Bling Empire\" discuss the show's...</td>\n",
              "    </tr>\n",
              "    <tr>\n",
              "      <th>457</th>\n",
              "      <td>s731</td>\n",
              "      <td>Movie</td>\n",
              "      <td>Cobra Kai - The Afterparty</td>\n",
              "      <td></td>\n",
              "      <td>David Spade, London Hughes, Fortune Feimster</td>\n",
              "      <td></td>\n",
              "      <td>June 12, 2021</td>\n",
              "      <td>6</td>\n",
              "      <td>2021</td>\n",
              "      <td>2021</td>\n",
              "      <td>TV-MA</td>\n",
              "      <td>34</td>\n",
              "      <td>Movies</td>\n",
              "      <td>Ralph Macchio, William Zabka and more from the...</td>\n",
              "    </tr>\n",
              "    <tr>\n",
              "      <th>458</th>\n",
              "      <td>s733</td>\n",
              "      <td>Movie</td>\n",
              "      <td>To All the Boys: Always and Forever - The Afte...</td>\n",
              "      <td></td>\n",
              "      <td>Cast members of the \"To All the Boys\" films di...</td>\n",
              "      <td></td>\n",
              "      <td>June 12, 2021</td>\n",
              "      <td>6</td>\n",
              "      <td>2021</td>\n",
              "      <td>2021</td>\n",
              "      <td>TV-MA</td>\n",
              "      <td>36</td>\n",
              "      <td>Movies</td>\n",
              "      <td>Cast members of the \"To All the Boys\" films di...</td>\n",
              "    </tr>\n",
              "  </tbody>\n",
              "</table>\n",
              "</div>\n",
              "      <button class=\"colab-df-convert\" onclick=\"convertToInteractive('df-02f4a696-8e6f-4796-a9a8-7ff12f629f1c')\"\n",
              "              title=\"Convert this dataframe to an interactive table.\"\n",
              "              style=\"display:none;\">\n",
              "        \n",
              "  <svg xmlns=\"http://www.w3.org/2000/svg\" height=\"24px\"viewBox=\"0 0 24 24\"\n",
              "       width=\"24px\">\n",
              "    <path d=\"M0 0h24v24H0V0z\" fill=\"none\"/>\n",
              "    <path d=\"M18.56 5.44l.94 2.06.94-2.06 2.06-.94-2.06-.94-.94-2.06-.94 2.06-2.06.94zm-11 1L8.5 8.5l.94-2.06 2.06-.94-2.06-.94L8.5 2.5l-.94 2.06-2.06.94zm10 10l.94 2.06.94-2.06 2.06-.94-2.06-.94-.94-2.06-.94 2.06-2.06.94z\"/><path d=\"M17.41 7.96l-1.37-1.37c-.4-.4-.92-.59-1.43-.59-.52 0-1.04.2-1.43.59L10.3 9.45l-7.72 7.72c-.78.78-.78 2.05 0 2.83L4 21.41c.39.39.9.59 1.41.59.51 0 1.02-.2 1.41-.59l7.78-7.78 2.81-2.81c.8-.78.8-2.07 0-2.86zM5.41 20L4 18.59l7.72-7.72 1.47 1.35L5.41 20z\"/>\n",
              "  </svg>\n",
              "      </button>\n",
              "      \n",
              "  <style>\n",
              "    .colab-df-container {\n",
              "      display:flex;\n",
              "      flex-wrap:wrap;\n",
              "      gap: 12px;\n",
              "    }\n",
              "\n",
              "    .colab-df-convert {\n",
              "      background-color: #E8F0FE;\n",
              "      border: none;\n",
              "      border-radius: 50%;\n",
              "      cursor: pointer;\n",
              "      display: none;\n",
              "      fill: #1967D2;\n",
              "      height: 32px;\n",
              "      padding: 0 0 0 0;\n",
              "      width: 32px;\n",
              "    }\n",
              "\n",
              "    .colab-df-convert:hover {\n",
              "      background-color: #E2EBFA;\n",
              "      box-shadow: 0px 1px 2px rgba(60, 64, 67, 0.3), 0px 1px 3px 1px rgba(60, 64, 67, 0.15);\n",
              "      fill: #174EA6;\n",
              "    }\n",
              "\n",
              "    [theme=dark] .colab-df-convert {\n",
              "      background-color: #3B4455;\n",
              "      fill: #D2E3FC;\n",
              "    }\n",
              "\n",
              "    [theme=dark] .colab-df-convert:hover {\n",
              "      background-color: #434B5C;\n",
              "      box-shadow: 0px 1px 3px 1px rgba(0, 0, 0, 0.15);\n",
              "      filter: drop-shadow(0px 1px 2px rgba(0, 0, 0, 0.3));\n",
              "      fill: #FFFFFF;\n",
              "    }\n",
              "  </style>\n",
              "\n",
              "      <script>\n",
              "        const buttonEl =\n",
              "          document.querySelector('#df-02f4a696-8e6f-4796-a9a8-7ff12f629f1c button.colab-df-convert');\n",
              "        buttonEl.style.display =\n",
              "          google.colab.kernel.accessAllowed ? 'block' : 'none';\n",
              "\n",
              "        async function convertToInteractive(key) {\n",
              "          const element = document.querySelector('#df-02f4a696-8e6f-4796-a9a8-7ff12f629f1c');\n",
              "          const dataTable =\n",
              "            await google.colab.kernel.invokeFunction('convertToInteractive',\n",
              "                                                     [key], {});\n",
              "          if (!dataTable) return;\n",
              "\n",
              "          const docLinkHtml = 'Like what you see? Visit the ' +\n",
              "            '<a target=\"_blank\" href=https://colab.research.google.com/notebooks/data_table.ipynb>data table notebook</a>'\n",
              "            + ' to learn more about interactive tables.';\n",
              "          element.innerHTML = '';\n",
              "          dataTable['output_type'] = 'display_data';\n",
              "          await google.colab.output.renderOutput(dataTable, element);\n",
              "          const docLink = document.createElement('div');\n",
              "          docLink.innerHTML = docLinkHtml;\n",
              "          element.appendChild(docLink);\n",
              "        }\n",
              "      </script>\n",
              "    </div>\n",
              "  </div>\n",
              "  "
            ]
          },
          "metadata": {},
          "execution_count": 20
        }
      ],
      "source": [
        "(netflix_films.iloc[index2[0:5]])"
      ]
    },
    {
      "cell_type": "markdown",
      "metadata": {
        "id": "kCfDRgNC_d-i"
      },
      "source": [
        "*This result indicates that these genres were added to those entries that had no genre originally. We can replace them with None or empty string as we did with missing string values.*"
      ]
    },
    {
      "cell_type": "markdown",
      "metadata": {
        "id": "vza4LSwkA6uR"
      },
      "source": [
        "# Data Missingness: MCAR, MAR, MNAR\n",
        "##### One of the most important issues in any dataset we deal with is the missing data which, if ignored, can lead to misleading results.\n",
        "\n",
        "##### Here are the main 3 types of data missingness and how to deal with each:-\n",
        "\n",
        "\n",
        "1.   MCAR: no pattern can be observed in the data missingness, probability of missingness in one independent variable does not depend on any other observed independent variables; it depends only on some external factors \n",
        "2.   MAR: again some pattern can be observed, but probability of missingness depends on (or can be explained by) some other idependent wariable\n",
        "3.   MNAR: there's some observed pattern in the missingness of data, but can't be explained through any of the data variables\n",
        "\n",
        "#### Summary\n",
        "\n",
        "##### Pattern  /   Data Explains Pattern\n",
        "\n",
        "            Yes         No\n",
        "\n",
        "    Yes     MAR        MNAR\n",
        "    No      --         MCAR\n",
        "\n"
      ]
    },
    {
      "cell_type": "markdown",
      "metadata": {
        "id": "BJ5SvZEGrvDa"
      },
      "source": [
        "**MCAR: example**\n",
        "##### Create a random dataset of arbitrary number of rows"
      ]
    },
    {
      "cell_type": "code",
      "execution_count": 21,
      "metadata": {
        "id": "bFwHfUUErznj"
      },
      "outputs": [],
      "source": [
        "import numpy as np\n",
        "import pandas as pd\n",
        "N = 3000\n",
        "gender = np.random.choice([\"Male\", \"Female\"], N, p=[0.6, 0.4])\n",
        "height = 140 + (200-140) * np.random.rand(N)\n",
        "weight = 40 + (120-40) * np.random.rand(N)\n",
        "salary = 30000+(80000-30000) * np.random.rand(N)\n",
        "df = pd.DataFrame(data=[gender, height, weight, salary]).transpose()\n",
        "df.columns = [\"Gender\", \"Height\", \"weight\", \"salary\"]"
      ]
    },
    {
      "cell_type": "markdown",
      "metadata": {
        "id": "zbMfoA0GsmJN"
      },
      "source": [
        "##### Impose MCAR using an external factor probability of a randomly thrown dice"
      ]
    },
    {
      "cell_type": "code",
      "execution_count": 22,
      "metadata": {
        "id": "mFQgSFoukb2Z"
      },
      "outputs": [],
      "source": [
        "df[\"Dice\"] = df[\"Gender\"] # Gender column is used as an explonatory column\n",
        "# Fill the Dice column with the probability values\n",
        "df[\"Dice\"] = np.random.choice([1, 2, 3, 4, 5, 6], N, p=[1/6, 1/6, 1/6, 1/6, 1/6, 1/6])\n",
        "# Dtermine indices where Dice=6\n",
        "index = df[df[\"Dice\"]==6].index\n",
        "# Replace with NaN\n",
        "df.loc[index,\"Height\"] = np.nan"
      ]
    },
    {
      "cell_type": "markdown",
      "metadata": {
        "id": "awx6uzxwwCdt"
      },
      "source": [
        "Detect the MCAR using statistical test (χ2 test)\n",
        "\n",
        "##### Check the p-value associated with the χ2 test with each of the independent variables. p-value < 0.05 indicates dependency\n",
        "\n",
        "##### Let's start with the gender column. We'll need to fill this contingency table first\n",
        "\n",
        "            |   True   |   False  |\n",
        "    Female   |   n1    |   n3   |\n",
        "    Male     |   n2    |   n4   |"
      ]
    },
    {
      "cell_type": "code",
      "execution_count": 23,
      "metadata": {
        "id": "coRnmqP0ymMU"
      },
      "outputs": [],
      "source": [
        "# Initialize the Dice columns\n",
        "df[\"Height_missing\"] = df[\"Height\"]\n",
        "# The column is false\n",
        "df[\"Height_missing\"] = False\n",
        "# Replace where Height_missing with True where Height is missing\n",
        "df.loc[df[df['Height'].isnull()].index, \"Height_missing\"] = True\n"
      ]
    },
    {
      "cell_type": "code",
      "execution_count": 24,
      "metadata": {
        "colab": {
          "base_uri": "https://localhost:8080/"
        },
        "id": "Y3g8pUyDy77m",
        "outputId": "695c636b-2ce6-455b-9c6d-85af5c0fa6df"
      },
      "outputs": [
        {
          "output_type": "stream",
          "name": "stdout",
          "text": [
            "Missing height values\n"
          ]
        },
        {
          "output_type": "execute_result",
          "data": {
            "text/plain": [
              "Gender\n",
              "Female    219\n",
              "Male      297\n",
              "Name: Height_missing, dtype: int64"
            ]
          },
          "metadata": {},
          "execution_count": 24
        }
      ],
      "source": [
        "print(\"Missing height values\")\n",
        "\n",
        "n1 = df[df[\"Height_missing\"]==True].groupby(\"Gender\")[\"Height_missing\"].count()[0]\n",
        "n2 = df[df[\"Height_missing\"]==True].groupby(\"Gender\")[\"Height_missing\"].count()[1]\n",
        "\n",
        "df[df[\"Height_missing\"]==True].groupby(\"Gender\")[\"Height_missing\"].count()"
      ]
    },
    {
      "cell_type": "code",
      "execution_count": 25,
      "metadata": {
        "colab": {
          "base_uri": "https://localhost:8080/"
        },
        "id": "5dXxoHd_y8wo",
        "outputId": "8bfa8204-0b38-4dd3-bde6-76ddb797ab63"
      },
      "outputs": [
        {
          "output_type": "stream",
          "name": "stdout",
          "text": [
            "Present height values\n"
          ]
        },
        {
          "output_type": "execute_result",
          "data": {
            "text/plain": [
              "Gender\n",
              "Female     969\n",
              "Male      1515\n",
              "Name: Height_missing, dtype: int64"
            ]
          },
          "metadata": {},
          "execution_count": 25
        }
      ],
      "source": [
        "print(\"Present height values\")\n",
        "\n",
        "n3 = df[df[\"Height_missing\"]==False].groupby(\"Gender\")[\"Height_missing\"].count()[0]\n",
        "n4 = df[df[\"Height_missing\"]==False].groupby(\"Gender\")[\"Height_missing\"].count()[1]\n",
        "\n",
        "df[df[\"Height_missing\"]==False].groupby(\"Gender\")[\"Height_missing\"].count()"
      ]
    },
    {
      "cell_type": "markdown",
      "metadata": {
        "id": "Vn-6GmD6ztah"
      },
      "source": [
        "##### Check the P-value associated with the given data"
      ]
    },
    {
      "cell_type": "code",
      "execution_count": 26,
      "metadata": {
        "colab": {
          "base_uri": "https://localhost:8080/"
        },
        "id": "wAG7PwTYzx4C",
        "outputId": "fa12a3a2-94d5-4673-dc16-b6db458ae4c1"
      },
      "outputs": [
        {
          "output_type": "stream",
          "name": "stdout",
          "text": [
            "The p-value is equal to 0.16117384711151939\n"
          ]
        }
      ],
      "source": [
        "from scipy.stats import chi2_contingency\n",
        "\n",
        "table = [[n1, n3], [n2, n4]]\n",
        "\n",
        "chi2, p, dof, ex = chi2_contingency(table)\n",
        "\n",
        "print(\"The p-value is equal to {}\".format(p))"
      ]
    },
    {
      "cell_type": "markdown",
      "metadata": {
        "id": "EPxP1Np62GSx"
      },
      "source": [
        "##### This p-value is much higher than the threshold (0.05) indicating that the missingness in the height column does not depend on the gender one. We shall repeat the same analysis with the other columns in a similar way"
      ]
    },
    {
      "cell_type": "markdown",
      "metadata": {
        "id": "2VFj3dVkfpBx"
      },
      "source": [
        "# Requirements\n",
        "\n",
        "1.   Using the dataset we just created, impose an MAR on the weight column. Which column will you use as an explanatory one?\n",
        "2.   Follow on 1, detect the type of missingness to verify 1, then impute the missing values using mean, mode, median, and Knn imputations. Compare between these 4 in terms of mean and variance. What do you notice?\n",
        "3.   Impose an MNAR on the salary column. Try to detect its kind. Does it have any statistical test to detect?\n",
        "4.   Follow on 3, impute the missingness with 2 different methods, then show the Boxplot of each. Briefly explain your findings."
      ]
    },
    {
      "cell_type": "markdown",
      "metadata": {
        "id": "HsqmvZHj-Hyq"
      },
      "source": [
        "**Adopted From**\n",
        "\n",
        "1.   https://towardsdatascience.com/how-to-clean-your-data-in-python-8f178638b98d\n",
        "2.   https://www.kaggle.com/code/yassirarezki/handling-missing-data-mcar-mar-and-mnar-part-i/notebook\n",
        "\n"
      ]
    },
    {
      "cell_type": "markdown",
      "metadata": {
        "id": "suCBD1PXYCzM"
      },
      "source": [
        "Reem Emad, sec.:1, B.N.:33\n",
        "\n",
        "Osama Magdy, sec.:1 B.N.:14"
      ]
    },
    {
      "cell_type": "markdown",
      "metadata": {
        "id": "jSpbf70AYCzM"
      },
      "source": [
        "1] For MAR, We can have a relation between the height and the weight (dependent features)\n",
        "\n",
        "So we'll use the \"Height\" column as an explanatory one"
      ]
    },
    {
      "cell_type": "code",
      "execution_count": 51,
      "metadata": {
        "id": "dG7OqVOKYCzM"
      },
      "outputs": [],
      "source": [
        "N = 3000\n",
        "gender = np.random.choice([\"Male\", \"Female\"], N, p=[0.6, 0.4])\n",
        "height = 140 + (200-140) * np.random.rand(N)\n",
        "weight = 40 + (120-40) * np.random.rand(N)\n",
        "salary = 30000+(80000-30000) * np.random.rand(N)\n",
        "df = pd.DataFrame(data=[gender, height, weight, salary]).transpose()\n",
        "df.columns = [\"Gender\", \"Height\", \"weight\", \"salary\"]\n",
        "df['Gender'] = df['Gender'].map({'Male': 0, 'Female': 1})"
      ]
    },
    {
      "cell_type": "code",
      "execution_count": 28,
      "metadata": {
        "id": "E5cDK29FYCzM"
      },
      "outputs": [],
      "source": [
        "# Impose MAR on the weight column df[\"weight\"] \n",
        "\n",
        "def replace_weight_nan():\n",
        "  # Dtermine indices where Height > 170, they don't prefer to give their weight\n",
        "  index = df[df[\"Height\"]>170].sample(frac=0.8).index\n",
        "\n",
        "  # Replace with NaN\n",
        "  df.loc[index,\"weight\"] = np.nan\n"
      ]
    },
    {
      "cell_type": "code",
      "execution_count": 29,
      "metadata": {
        "id": "8M7b3geKYCzM"
      },
      "outputs": [],
      "source": [
        "replace_weight_nan()\n",
        "\n",
        "df[\"weight_missing\"] = df[\"weight\"]\n",
        "# The column is false\n",
        "df[\"weight_missing\"] = False\n",
        "# Replace where weight_missing with True where weight is missing\n",
        "df.loc[df[df['weight'].isnull()].index, \"weight_missing\"] = True"
      ]
    },
    {
      "cell_type": "code",
      "execution_count": 30,
      "metadata": {
        "colab": {
          "base_uri": "https://localhost:8080/"
        },
        "id": "U87BC8pJYCzN",
        "outputId": "5d1ac4ed-93c3-4d62-b58c-31be8f7eb56a"
      },
      "outputs": [
        {
          "output_type": "execute_result",
          "data": {
            "text/plain": [
              "False    1811\n",
              "True     1189\n",
              "Name: weight_missing, dtype: int64"
            ]
          },
          "metadata": {},
          "execution_count": 30
        }
      ],
      "source": [
        "# all values count in weight column\n",
        "df[\"weight_missing\"].value_counts()"
      ]
    },
    {
      "cell_type": "code",
      "execution_count": 31,
      "metadata": {
        "id": "5Itng8B7YCzN"
      },
      "outputs": [],
      "source": [
        "# make column height_weight_corr to check if the weight is missing because of the height\n",
        "df[\"height_weight_corr_miss\"] = df[\"weight_missing\"]\n",
        "# The column is false\n",
        "df[\"height_weight_corr_miss\"] = False\n",
        "\n",
        "# Assume I have observed that the weight is missing because of the height bigger than 180\n",
        "index = df[df[\"Height\"]>180].index\n",
        "\n",
        "# Replace with NaN\n",
        "df.loc[index,\"height_weight_corr_miss\"] = True"
      ]
    },
    {
      "cell_type": "code",
      "execution_count": 32,
      "metadata": {
        "colab": {
          "base_uri": "https://localhost:8080/"
        },
        "id": "30c_YfTbYCzN",
        "outputId": "1215b2f8-e4aa-4df5-be89-1860fe77a764"
      },
      "outputs": [
        {
          "output_type": "stream",
          "name": "stdout",
          "text": [
            "Missing weight values\n"
          ]
        },
        {
          "output_type": "execute_result",
          "data": {
            "text/plain": [
              "height_weight_corr_miss\n",
              "False    357\n",
              "True     832\n",
              "Name: weight_missing, dtype: int64"
            ]
          },
          "metadata": {},
          "execution_count": 32
        }
      ],
      "source": [
        "print(\"Missing weight values\")\n",
        "\n",
        "n1 = df[df[\"weight_missing\"]==True].groupby(\"height_weight_corr_miss\")[\"weight_missing\"].count()[0]\n",
        "n2 = df[df[\"weight_missing\"]==True].groupby(\"height_weight_corr_miss\")[\"weight_missing\"].count()[1]\n",
        "\n",
        "df[df[\"weight_missing\"]==True].groupby(\"height_weight_corr_miss\")[\"weight_missing\"].count()"
      ]
    },
    {
      "cell_type": "code",
      "execution_count": 33,
      "metadata": {
        "colab": {
          "base_uri": "https://localhost:8080/"
        },
        "id": "sM9i2zEfYCzN",
        "outputId": "afae71d2-cc5a-4088-feb9-dd518b50ab4d"
      },
      "outputs": [
        {
          "output_type": "stream",
          "name": "stdout",
          "text": [
            "Present weight values\n"
          ]
        },
        {
          "output_type": "execute_result",
          "data": {
            "text/plain": [
              "height_weight_corr_miss\n",
              "False    1614\n",
              "True      197\n",
              "Name: weight_missing, dtype: int64"
            ]
          },
          "metadata": {},
          "execution_count": 33
        }
      ],
      "source": [
        "print(\"Present weight values\")\n",
        "\n",
        "n3 = df[df[\"weight_missing\"]==False].groupby(\"height_weight_corr_miss\")[\"weight_missing\"].count()[0] \n",
        "n4 = df[df[\"weight_missing\"]==False].groupby(\"height_weight_corr_miss\")[\"weight_missing\"].count()[1]\n",
        "\n",
        "df[df[\"weight_missing\"]==False].groupby(\"height_weight_corr_miss\")[\"weight_missing\"].count()"
      ]
    },
    {
      "cell_type": "markdown",
      "metadata": {
        "id": "5OQGtQnuYCzN"
      },
      "source": [
        "Detect the type of missingness to verify it's MAR"
      ]
    },
    {
      "cell_type": "code",
      "execution_count": 34,
      "metadata": {
        "colab": {
          "base_uri": "https://localhost:8080/"
        },
        "id": "shAp26RcYCzO",
        "outputId": "b02383b8-49c3-4f92-a01b-d12813301a6a"
      },
      "outputs": [
        {
          "output_type": "stream",
          "name": "stdout",
          "text": [
            "The p-value is equal to 2.5174588989387666e-243\n"
          ]
        }
      ],
      "source": [
        "from scipy.stats import chi2_contingency\n",
        "\n",
        "table = [[n1, n3], [n2, n4]]\n",
        "\n",
        "chi2, p, dof, ex = chi2_contingency(table)\n",
        "\n",
        "print(\"The p-value is equal to {}\".format(p))"
      ]
    },
    {
      "cell_type": "markdown",
      "metadata": {
        "id": "_oR66_IHYCzO"
      },
      "source": [
        "Since p-value is very small approaches 0 and it's less than the threshold (0.05) then this shows that weight column **depends** on Height column then it's MAR"
      ]
    },
    {
      "cell_type": "markdown",
      "metadata": {
        "id": "Rjzv9WCKYCzO"
      },
      "source": [
        "2] Impute the missing values using mean, mode, median, and Knn imputations. Compare between these 4 in terms of mean and variance. What do you notice?"
      ]
    },
    {
      "cell_type": "code",
      "execution_count": 35,
      "metadata": {
        "colab": {
          "base_uri": "https://localhost:8080/"
        },
        "id": "jIlbdPfIYCzO",
        "outputId": "a9cf65fc-e6ee-4af3-b551-e98511b9d3fd"
      },
      "outputs": [
        {
          "output_type": "stream",
          "name": "stdout",
          "text": [
            "Mean before imputing missing values with mode 80.27350936540084\n",
            "Var before imputing missing values with mode 534.1329273351034\n",
            "mode:  40.017704275434866\n",
            "Mean after imputing missing values with mode 60.96414152391385\n",
            "Var after imputing missing values with mode 682.4390637016602\n"
          ]
        }
      ],
      "source": [
        "# Impute the missing values with the mode of the column\n",
        "replace_weight_nan()\n",
        "\n",
        "print(\"Mean before imputing missing values with mode\",df[\"weight\"].mean())\n",
        "print(\"Var before imputing missing values with mode\",df[\"weight\"].var())\n",
        "\n",
        "print(\"mode: \",df[\"weight\"].mode()[0])\n",
        "\n",
        "df[\"weight\"] = df[\"weight\"].fillna(df[\"weight\"].mode()[0])\n",
        "mode_mean = df[\"weight\"].mean()\n",
        "mode_var = df[\"weight\"].var()\n",
        "print(\"Mean after imputing missing values with mode\",df[\"weight\"].mean()) \n",
        "print(\"Var after imputing missing values with mode\",df[\"weight\"].var()) "
      ]
    },
    {
      "cell_type": "code",
      "execution_count": 53,
      "metadata": {
        "colab": {
          "base_uri": "https://localhost:8080/"
        },
        "id": "n4rVudXzYCzO",
        "outputId": "f40c7b65-a856-4d28-dddb-421659447276"
      },
      "outputs": [
        {
          "output_type": "stream",
          "name": "stdout",
          "text": [
            "Mean before imputing missing values with mean 79.34117065413237\n",
            "Var before imputing missing values with mean 458.24903537847206\n",
            "Mean after imputing missing values with mean 79.34117065413237\n",
            "Var after imputing missing values with mean 272.2906905783385\n"
          ]
        }
      ],
      "source": [
        "# Impute the missing values with the mean of the column\n",
        "replace_weight_nan()\n",
        "\n",
        "print(\"Mean before imputing missing values with mean\",df[\"weight\"].mean())\n",
        "print(\"Var before imputing missing values with mean\",df[\"weight\"].var())\n",
        "\n",
        "df[\"weight\"] = df[\"weight\"].fillna(df[\"weight\"].mean()) \n",
        "\n",
        "mean_mean = df[\"weight\"].mean()\n",
        "mean_var = df[\"weight\"].var()\n",
        "\n",
        "print(\"Mean after imputing missing values with mean\",df[\"weight\"].mean()) # Mean is not changed\n",
        "print(\"Var after imputing missing values with mean\",df[\"weight\"].var()) \n",
        "# Varience is changed as we put the mean for all missing values so the varience between values is smaller, this is not a good imputation\n",
        "# It reduces the variance of the variable, I need to preserve the varience of the column as much as possible\n"
      ]
    },
    {
      "cell_type": "code",
      "execution_count": 56,
      "metadata": {
        "colab": {
          "base_uri": "https://localhost:8080/"
        },
        "id": "hzoDa6l3YCzO",
        "outputId": "cb4e8dcb-0688-40b5-fee2-d3831c158d7d"
      },
      "outputs": [
        {
          "output_type": "stream",
          "name": "stdout",
          "text": [
            "Mean before imputing missing values with median 79.27879860678974\n",
            "Var before imputing missing values with median 438.531255417205\n",
            "median:  79.34117065413237\n",
            "Mean after imputing missing values with median 79.30410086732842\n",
            "Var after imputing missing values with median 260.57536212126405\n"
          ]
        }
      ],
      "source": [
        "# Impute the missing values with the median of the column\n",
        "replace_weight_nan()\n",
        "\n",
        "print(\"Mean before imputing missing values with median\",df[\"weight\"].mean())\n",
        "print(\"Var before imputing missing values with median\",df[\"weight\"].var())\n",
        "\n",
        "df[\"weight\"] = df[\"weight\"].fillna(df[\"weight\"].median()) \n",
        "print(\"median: \",df[\"weight\"].median())\n",
        "median_mean = df[\"weight\"].mean()\n",
        "median_var = df[\"weight\"].var()\n",
        "print(\"Mean after imputing missing values with median\",df[\"weight\"].mean())  \n",
        "# this makes the mean very similar(almost identical) from the original mean before imputation\n",
        "print(\"Var after imputing missing values with median\",df[\"weight\"].var()) \n",
        "# same problem as mean, varience is smaller than the original one"
      ]
    },
    {
      "cell_type": "code",
      "execution_count": 38,
      "metadata": {
        "colab": {
          "base_uri": "https://localhost:8080/"
        },
        "id": "a6e3oZ0pYCzP",
        "outputId": "34984c7f-252d-45cc-bed7-9c38bfa80f70"
      },
      "outputs": [
        {
          "output_type": "stream",
          "name": "stdout",
          "text": [
            "Mean before imputing missing values with knn 78.90578076043656\n",
            "Var before imputing missing values with knn 461.4844316323297\n",
            "Mean after imputing missing values with knn 79.0067155144213\n",
            "Var after imputing missing values with knn 319.196564272976\n"
          ]
        },
        {
          "output_type": "stream",
          "name": "stderr",
          "text": [
            "<ipython-input-38-aedb86b6202f>:38: SettingWithCopyWarning: \n",
            "A value is trying to be set on a copy of a slice from a DataFrame\n",
            "\n",
            "See the caveats in the documentation: https://pandas.pydata.org/pandas-docs/stable/user_guide/indexing.html#returning-a-view-versus-a-copy\n",
            "  y.iloc[sample_index] = y_pred\n"
          ]
        }
      ],
      "source": [
        "# Impute the missing values with the knn \n",
        "replace_weight_nan()\n",
        "\n",
        "org_mean = df[\"weight\"].mean()\n",
        "org_var = df[\"weight\"].var()\n",
        "\n",
        "print(\"Mean before imputing missing values with knn\",df[\"weight\"].mean())\n",
        "print(\"Var before imputing missing values with knn\",df[\"weight\"].var())\n",
        "\n",
        "from sklearn.impute import KNNImputer\n",
        "from sklearn.neighbors import KNeighborsRegressor\n",
        "\n",
        "# Separate the feature matrix and the target variable\n",
        "X = df.drop('weight', axis=1)\n",
        "y = df['weight']\n",
        "\n",
        "# Instantiate the KNN regressor\n",
        "regressor = KNeighborsRegressor(n_neighbors=5)\n",
        "\n",
        "# Find the indices of missing values in the weight column\n",
        "missing_indices = np.where(y.isna())\n",
        "\n",
        "# Impute missing values using KNN regression\n",
        "for sample_index in missing_indices:\n",
        "    # Split the feature matrix into training and testing sets\n",
        "    # X_train should have the values of all the features for all the samples except the one with the missing value for the target variable \n",
        "    X_train = X.dropna().drop(X.iloc[sample_index].index)\n",
        "    y_train = y[y.dropna().index]\n",
        "    X_test = X.iloc[sample_index]\n",
        "    \n",
        "    # Fit the KNN regressor to the training data\n",
        "    regressor.fit(X_train, y_train)\n",
        "    \n",
        "    # Use the KNN regressor to predict the missing value\n",
        "    y_pred = regressor.predict(X_test)\n",
        "\n",
        "    # Replace the missing value with the predicted value\n",
        "    y.iloc[sample_index] = y_pred\n",
        "\n",
        "# update the weight column with the new value of y \n",
        "df[\"weight\"] = y\n",
        "\n",
        "knn_mean = df[\"weight\"].mean()\n",
        "knn_var = df[\"weight\"].var()\n",
        "\n",
        "print(\"Mean after imputing missing values with knn\",df[\"weight\"].mean())  \n",
        "print(\"Var after imputing missing values with knn\",df[\"weight\"].var()) \n",
        "# the varience are close to the original ones more than the other imputation methods \n",
        "# So this is the best imputation method over the other methods"
      ]
    },
    {
      "cell_type": "code",
      "execution_count": 57,
      "metadata": {
        "colab": {
          "base_uri": "https://localhost:8080/"
        },
        "id": "BS2oKHNoYCzP",
        "outputId": "b0a83545-cd00-4444-b373-0a38fc848cfa"
      },
      "outputs": [
        {
          "output_type": "stream",
          "name": "stdout",
          "text": [
            "mean before imputation:  78.90578076043656\n",
            "var before imputation:  461.4844316323297\n",
            "mean after imputation with mean:  79.34117065413237\n",
            "var after imputation with mean:  272.2906905783385\n",
            "mean after imputation with mode:  60.96414152391385\n",
            "var after imputation with mode:  682.4390637016602\n",
            "mean after imputation with median:  79.30410086732842\n",
            "var after imputation with median:  260.57536212126405\n",
            "mean after imputation with knn:  79.0067155144213\n",
            "var after imputation with knn:  319.196564272976\n"
          ]
        }
      ],
      "source": [
        "# Compare between the imputation methods in terms of mean and variance \n",
        "\n",
        "print(\"mean before imputation: \",org_mean)\n",
        "print(\"var before imputation: \",org_var)\n",
        "print(\"mean after imputation with mean: \",mean_mean)\n",
        "print(\"var after imputation with mean: \",mean_var)\n",
        "print(\"mean after imputation with mode: \",mode_mean)\n",
        "print(\"var after imputation with mode: \",mode_var)\n",
        "print(\"mean after imputation with median: \",median_mean)\n",
        "print(\"var after imputation with median: \",median_var)\n",
        "print(\"mean after imputation with knn: \",knn_mean)\n",
        "print(\"var after imputation with knn: \",knn_var)\n",
        "\n",
        "# The mode makes the values goes to the most frequent value in the column so it's not a good imputation method \n",
        "# The median makes the mean very similar to the original mean before imputation\n",
        "# The knn is the best imputation method as it makes the mean very close to the original ones and the varience is better than the other methods"
      ]
    },
    {
      "cell_type": "markdown",
      "metadata": {
        "id": "1Jed2TgJYCzP"
      },
      "source": [
        "3] Impose an MNAR on the salary column. \n",
        "\n",
        "FOr MNAR, we will remove all salaries bigger than a threshold"
      ]
    },
    {
      "cell_type": "code",
      "execution_count": 40,
      "metadata": {
        "id": "wdKr_mV2YCzP"
      },
      "outputs": [],
      "source": [
        "N = 3000\n",
        "gender = np.random.choice([\"Male\", \"Female\"], N, p=[0.6, 0.4])\n",
        "height = 140 + (200-140) * np.random.rand(N)\n",
        "weight = 40 + (120-40) * np.random.rand(N)\n",
        "salary = 30000+(80000-30000) * np.random.rand(N)\n",
        "df = pd.DataFrame(data=[gender, height, weight, salary]).transpose()\n",
        "df.columns = [\"Gender\", \"Height\", \"weight\", \"salary\"]\n",
        "df['Gender'] = df['Gender'].map({'Male': 0, 'Female': 1})"
      ]
    },
    {
      "cell_type": "code",
      "execution_count": 41,
      "metadata": {
        "colab": {
          "base_uri": "https://localhost:8080/"
        },
        "id": "lJE_hmgzYCzP",
        "outputId": "f0692409-4088-4695-e2b4-d078230ed7cf"
      },
      "outputs": [
        {
          "output_type": "stream",
          "name": "stdout",
          "text": [
            "Maximum value of salary column is 79990.5068523023\n",
            "Minimum value of salary column is 30012.14411919273\n",
            "Count of values bigger than 75000 is 255 out of 3000\n"
          ]
        }
      ],
      "source": [
        "# get maximum value and minimum value of salary column\n",
        "max_value = df[\"salary\"].max()\n",
        "min_value = df[\"salary\"].min()\n",
        "\n",
        "print(\"Maximum value of salary column is {}\".format(max_value))\n",
        "print(\"Minimum value of salary column is {}\".format(min_value))\n",
        "\n",
        "# print count of values bigger than 75000\n",
        "print(\"Count of values bigger than 75000 is {} out of {}\".format(df[df[\"salary\"]>75000].shape[0], df.shape[0]))"
      ]
    },
    {
      "cell_type": "markdown",
      "metadata": {
        "id": "hxt-vZUrYCzQ"
      },
      "source": [
        "### Try to detect its kind. Does it have any statistical test to detect?\n",
        "##### We can't detect its kind because The removed information can't be introduced from another column, salary column doesn't depend on any column\n",
        "##### also we have lost bunch of information, whole category is lost ( \"salary\" > 75000 )"
      ]
    },
    {
      "cell_type": "markdown",
      "metadata": {
        "id": "xaz1uPCBYCzQ"
      },
      "source": [
        "4] Follow on 3, impute the missingness with 2 different methods, then show the Boxplot of each. Briefly explain your findings."
      ]
    },
    {
      "cell_type": "markdown",
      "metadata": {
        "id": "dPPBa5F_YCzQ"
      },
      "source": [
        "Impute the missing values in salary column (MNAR) with 3 different methods \n",
        "1. Impute with the mean of the column\n",
        "2. Impute with the stochastic regression imputer\n",
        "3. Impute with the hot-deck imputation\n",
        "\n",
        "then show the boxplot of each method"
      ]
    },
    {
      "cell_type": "code",
      "execution_count": 42,
      "metadata": {
        "id": "Ax1fHgVJYCzQ"
      },
      "outputs": [],
      "source": [
        "def replace_salary_nan():\n",
        "    p = 0.8\n",
        "    # get indices of salary values bigger than 75000 with probability p\n",
        "    index = df[df[\"salary\"]>60000].sample(frac=p).index\n",
        "\n",
        "    # get indices of salary values lower than 50000 with probability 1-p\n",
        "    index2 = df[df[\"salary\"]<60000].sample(frac=1-p).index\n",
        "\n",
        "    # Replace with NaN\n",
        "    df.loc[index,\"salary\"] = np.nan\n",
        "    df.loc[index2,\"salary\"] = np.nan"
      ]
    },
    {
      "cell_type": "code",
      "execution_count": 43,
      "metadata": {
        "colab": {
          "base_uri": "https://localhost:8080/",
          "height": 449
        },
        "id": "__S-8ud2YCzQ",
        "outputId": "f895d269-e22d-4199-a098-ffd32149c1dd"
      },
      "outputs": [
        {
          "output_type": "display_data",
          "data": {
            "text/plain": [
              "<Figure size 640x480 with 1 Axes>"
            ],
            "image/png": "[encoded data removed]"
          },
          "metadata": {}
        }
      ],
      "source": [
        "replace_salary_nan()\n",
        "# Impute with the median of the column\n",
        "df[\"salary\"] = df[\"salary\"].fillna(df[\"salary\"].mean())\n",
        "\n",
        "# show boxplot of each method \n",
        "data_mean = df[\"salary\"]\n",
        "plt.boxplot(data_mean)\n",
        "# put labels on x and y\n",
        "plt.xlabel(\"Salary\")\n",
        "plt.ylabel(\"Values\")\n",
        "# show the plot\n",
        "plt.show()\n",
        "\n",
        "# The orange line is the median of the column\n",
        "# The box is the interquartile range (25th to 75th percentile)\n",
        "# The whiskers are the minimum and maximum values\n",
        "# The dots are the outliers, no outliers here"
      ]
    },
    {
      "cell_type": "code",
      "execution_count": 44,
      "metadata": {
        "id": "wIlYVMsGYCzQ"
      },
      "outputs": [],
      "source": [
        "N = 3000\n",
        "gender = np.random.choice([\"Male\", \"Female\"], N, p=[0.6, 0.4])\n",
        "height = 140 + (200-140) * np.random.rand(N)\n",
        "weight = 40 + (120-40) * np.random.rand(N)\n",
        "salary = 30000+(80000-30000) * np.random.rand(N)\n",
        "df = pd.DataFrame(data=[gender, height, weight, salary]).transpose()\n",
        "df.columns = [\"Gender\", \"Height\", \"weight\", \"salary\"]\n",
        "df['Gender'] = df['Gender'].map({'Male': 0, 'Female': 1})"
      ]
    },
    {
      "cell_type": "code",
      "execution_count": 45,
      "metadata": {
        "colab": {
          "base_uri": "https://localhost:8080/",
          "height": 590
        },
        "id": "UbY7PGCtYCzQ",
        "outputId": "287eccda-3688-4452-9f96-990309b77989"
      },
      "outputs": [
        {
          "output_type": "stream",
          "name": "stderr",
          "text": [
            "/usr/local/lib/python3.9/dist-packages/sklearn/experimental/enable_hist_gradient_boosting.py:16: UserWarning: Since version 1.0, it is not needed to import enable_hist_gradient_boosting anymore. HistGradientBoostingClassifier and HistGradientBoostingRegressor are now stable and can be normally imported from sklearn.ensemble.\n",
            "  warnings.warn(\n",
            "<ipython-input-45-d9fc3e8066be>:28: SettingWithCopyWarning: \n",
            "A value is trying to be set on a copy of a slice from a DataFrame\n",
            "\n",
            "See the caveats in the documentation: https://pandas.pydata.org/pandas-docs/stable/user_guide/indexing.html#returning-a-view-versus-a-copy\n",
            "  y.iloc[sample_index] = y_pred\n"
          ]
        },
        {
          "output_type": "display_data",
          "data": {
            "text/plain": [
              "<Figure size 640x480 with 1 Axes>"
            ],
            "image/png": "[encoded data removed]"
          },
          "metadata": {}
        }
      ],
      "source": [
        "replace_salary_nan()\n",
        "# Separate the feature matrix and the target variable\n",
        "X = df.drop('salary', axis=1)\n",
        "y = df['salary']\n",
        "\n",
        "# Instantiate the Stochastic Regression Imputer\n",
        "from sklearn.experimental import enable_hist_gradient_boosting\n",
        "from sklearn.ensemble import HistGradientBoostingRegressor\n",
        "imputer = HistGradientBoostingRegressor()\n",
        "\n",
        "# Find the indices of missing values in the salary column\n",
        "missing_indices = np.where(y.isna())\n",
        "\n",
        "# Impute missing values using Stochastic Regression Imputation\n",
        "for sample_index in missing_indices:\n",
        "    # Split the feature matrix into training and testing sets\n",
        "    X_train = X.dropna().drop(X.iloc[sample_index].index)\n",
        "    y_train = y[y.dropna().index]\n",
        "    X_test = X.iloc[sample_index]\n",
        "    \n",
        "    # Fit the imputer to the training data\n",
        "    imputer.fit(X_train, y_train)\n",
        "\n",
        "    # Use the imputer to predict the missing value\n",
        "    y_pred = imputer.predict(X_test)\n",
        "\n",
        "    # Replace the missing value with the predicted value\n",
        "    y.iloc[sample_index] = y_pred\n",
        "\n",
        "# update the weight column with the new value of y\n",
        "df[\"salary\"] = y\n",
        "# show boxplot of each method \n",
        "data_reg = df[\"salary\"]\n",
        "plt.boxplot(data_reg)\n",
        "# put labels on x and y\n",
        "plt.xlabel(\"Salary\")\n",
        "plt.ylabel(\"Values\")\n",
        "# show the plot\n",
        "plt.show()"
      ]
    },
    {
      "cell_type": "code",
      "execution_count": 46,
      "metadata": {
        "id": "X09nrnCGYCzR"
      },
      "outputs": [],
      "source": [
        "N = 3000\n",
        "gender = np.random.choice([\"Male\", \"Female\"], N, p=[0.6, 0.4])\n",
        "height = 140 + (200-140) * np.random.rand(N)\n",
        "weight = 40 + (120-40) * np.random.rand(N)\n",
        "salary = 30000+(80000-30000) * np.random.rand(N)\n",
        "df = pd.DataFrame(data=[gender, height, weight, salary]).transpose()\n",
        "df.columns = [\"Gender\", \"Height\", \"weight\", \"salary\"]\n",
        "df['Gender'] = df['Gender'].map({'Male': 0, 'Female': 1})"
      ]
    },
    {
      "cell_type": "code",
      "execution_count": 47,
      "metadata": {
        "colab": {
          "base_uri": "https://localhost:8080/",
          "height": 916
        },
        "id": "auRt5F-hYCzR",
        "outputId": "a1d03f19-9eab-460e-8b5b-bb50b5970ff2"
      },
      "outputs": [
        {
          "output_type": "display_data",
          "data": {
            "text/plain": [
              "<Figure size 640x480 with 1 Axes>"
            ],
            "image/png": "[encoded data removed]"
          },
          "metadata": {}
        },
        {
          "output_type": "stream",
          "name": "stdout",
          "text": [
            "The median before hot-deck imputation 47811.240513501536\n",
            "The median after hot-deck imputation 47682.63803960194\n"
          ]
        },
        {
          "output_type": "display_data",
          "data": {
            "text/plain": [
              "<Figure size 640x480 with 1 Axes>"
            ],
            "image/png": "[encoded data removed]"
          },
          "metadata": {}
        }
      ],
      "source": [
        "# Hot-deck imputation\n",
        "\n",
        "# show boxplot of each method \n",
        "data_org = df[\"salary\"]\n",
        "plt.boxplot(data_org)\n",
        "# put labels on x and y\n",
        "plt.xlabel(\"Salary\")\n",
        "plt.ylabel(\"Values\")\n",
        "# show the plot\n",
        "plt.show()\n",
        "\n",
        "replace_salary_nan()\n",
        "\n",
        "print(\"The median before hot-deck imputation\",df[\"salary\"].median())\n",
        "\n",
        "# Hot deck imputation is a method that imputes missing values by randomly selecting a value from a donor record that is similar to the record with missing values. \n",
        "# Impute missing values using Hot-deck imputation\n",
        "for i in range(len(df)):\n",
        "    if pd.isna(df.iloc[i]['salary']):\n",
        "        # Find the indices of the non-missing values in the salary column\n",
        "        non_missing_indices = df[df['salary'].notna()].index\n",
        "        \n",
        "        # Find the index of the closest non-missing value to the missing value\n",
        "        closest_index = non_missing_indices[(np.abs(non_missing_indices-i)).argmin()]\n",
        "        \n",
        "        # Use the value from the closest non-missing value to impute the missing value\n",
        "        df.at[i, 'salary'] = df.at[closest_index, 'salary']\n",
        "# print the median of the salary column\n",
        "print(\"The median after hot-deck imputation\",df[\"salary\"].median())\n",
        "\n",
        "# show boxplot of each method \n",
        "data_hotdeck = df[\"salary\"]\n",
        "plt.boxplot(data_hotdeck)\n",
        "# put labels on x and y\n",
        "plt.xlabel(\"Salary\")\n",
        "plt.ylabel(\"Values\")\n",
        "# show the plot\n",
        "plt.show()\n",
        "\n",
        "# Instantiate an IterativeImputer object with sample_posterior=True which imputes missing values using a Bayesian approach by iteratively modeling each feature with missing values as a function of other features. \n",
        "# We then use the fit_transform method of the imputer to impute the missing values in the feature matrix X."
      ]
    },
    {
      "cell_type": "markdown",
      "metadata": {
        "id": "ZOt0UzU7YCzR"
      },
      "source": [
        "Another way to show the boxplot\n",
        "\n",
        "Show ranges of salary"
      ]
    },
    {
      "cell_type": "code",
      "execution_count": 48,
      "metadata": {
        "colab": {
          "base_uri": "https://localhost:8080/",
          "height": 488
        },
        "id": "TYxsNleuYCzR",
        "outputId": "f7a40b71-30cb-4193-d7d5-e4ac323379a3"
      },
      "outputs": [
        {
          "output_type": "display_data",
          "data": {
            "text/plain": [
              "<Figure size 640x480 with 1 Axes>"
            ],
            "image/png": "[encoded data removed]"
          },
          "metadata": {}
        }
      ],
      "source": [
        "# Split the dataset into different ranges of salary\n",
        "df_low = df[df['salary'] <= 40000]\n",
        "df_medium = df[(df['salary'] > 40000) & (df['salary'] <= 60000)]\n",
        "df_high = df[df['salary'] > 60000]\n",
        "\n",
        "# Create a side-by-side boxplot of the salary column for different ranges of salary\n",
        "data = [df_low['salary'], df_medium['salary'], df_high['salary']]\n",
        "labels = ['Low Salary \\n (< 40000)', 'Medium Salary \\n (40000 - 60000)', 'High Salary \\n (> 60000)']\n",
        "\n",
        "# Create a list of counts for each range of salary\n",
        "counts = [len(df_low), len(df_medium), len(df_high)]\n",
        "\n",
        "# Create a side-by-side boxplot of the salary column for different ranges of salary\n",
        "plt.boxplot(data, labels=labels)\n",
        "\n",
        "# Add text labels for the counts on the boxplot\n",
        "for i in range(len(counts)):\n",
        "    plt.text(i+1, max(data[i]), str(counts[i]), ha='center', va='bottom')\n",
        "# put legend that indicates that the counts of people in each range of salary\n",
        "plt.legend(['Counts of people in each range of salary'])\n",
        "\n",
        "# Set the title and axis labels\n",
        "plt.title('Boxplot of Salary for Different Ranges of Salary')\n",
        "plt.xlabel('Salary Range')\n",
        "plt.ylabel('Salary')\n",
        "\n",
        "# Show the plot\n",
        "plt.show()"
      ]
    },
    {
      "cell_type": "code",
      "execution_count": 49,
      "metadata": {
        "colab": {
          "base_uri": "https://localhost:8080/",
          "height": 545
        },
        "id": "OWjbfc9pYCzR",
        "outputId": "08e49503-97ee-4f94-e82c-a7ae98c7a840"
      },
      "outputs": [
        {
          "output_type": "display_data",
          "data": {
            "text/plain": [
              "<Figure size 1000x600 with 1 Axes>"
            ],
            "image/png": "[encoded data removed]"
          },
          "metadata": {}
        }
      ],
      "source": [
        "# plot boxplot of salary, mean imputed salary and regression imputed salary\n",
        "import matplotlib.pyplot as plt\n",
        "import seaborn as sns\n",
        "sns.set_style(\"whitegrid\")\n",
        "plt.figure(figsize=(10,6))\n",
        "sns.boxplot(data= [data_org,data_mean, data_reg, data_hotdeck], orient=\"v\", palette=\"Set2\")\n",
        "plt.xticks([0,1,2,3], [\"Original\",\"Mean\", \"Regression\", \"Hot-deck\"])\n",
        "plt.title(\"Boxplot\")\n",
        "plt.show()"
      ]
    },
    {
      "cell_type": "code",
      "execution_count": 50,
      "metadata": {
        "id": "B1ANZ_emYCzR"
      },
      "outputs": [],
      "source": [
        "# Mean Imputation: mean is lower than mean in original, \n",
        "#   varience is very low because all the NANs are replaced with same value(mean) so no variety in values\n",
        "\n",
        "# Regression Imputation: mean is similar to original, and it somehow keeps the varience\n",
        "\n",
        "# Hot-deck Imputation: mean is similar and varience is also similar to original, it is the best method to impute missing values"
      ]
    }
  ],
  "metadata": {
    "colab": {
      "provenance": []
    },
    "kernelspec": {
      "display_name": "Python 3",
      "name": "python3"
    },
    "language_info": {
      "codemirror_mode": {
        "name": "ipython",
        "version": 3
      },
      "file_extension": ".py",
      "mimetype": "text/x-python",
      "name": "python",
      "nbconvert_exporter": "python",
      "pygments_lexer": "ipython3",
      "version": "3.10.3"
    }
  },
  "nbformat": 4,
  "nbformat_minor": 0
}